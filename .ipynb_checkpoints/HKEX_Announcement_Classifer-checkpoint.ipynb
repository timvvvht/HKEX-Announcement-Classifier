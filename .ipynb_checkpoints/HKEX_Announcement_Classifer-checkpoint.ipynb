{
 "cells": [
  {
   "cell_type": "code",
   "execution_count": 27,
   "metadata": {
    "colab": {},
    "colab_type": "code",
    "id": "pbT9HLCf_SRj"
   },
   "outputs": [],
   "source": [
    "import pandas as pd\n",
    "import numpy as np\n",
    "import re\n",
    "\n",
    "from sklearn.model_selection import train_test_split\n",
    "from keras.models import Model, Sequential\n",
    "from keras.layers import Bidirectional, LSTM, Activation, Dense, Dropout, Input, Embedding\n",
    "from keras.preprocessing.text import Tokenizer\n",
    "from keras.preprocessing.sequence import pad_sequences\n",
    "from keras.callbacks import EarlyStopping\n",
    "from tensorflow import keras\n",
    "from wordcloud import WordCloud, STOPWORDS, ImageColorGenerator\n",
    "\n",
    "%matplotlib inline\n",
    "\n",
    "import matplotlib.pyplot as plt\n"
   ]
  },
  {
   "cell_type": "code",
   "execution_count": 2,
   "metadata": {
    "colab": {},
    "colab_type": "code",
    "id": "mFpvnZtN_vaX"
   },
   "outputs": [],
   "source": [
    "# Get data from scraped CSVs\n",
    "CCT = '/content/drive/My Drive/Data/HKEX/ch14A_cct.csv'\n",
    "NT = '/content/drive/My Drive/Data/HKEX/notifiable_transactions.csv'\n",
    "TK = '/content/drive/My Drive/Data/HKEX/takeovers_code_3_7.csv'\n",
    "AGM = '/content/drive/My Drive/Data/HKEX/notice_of_agm.csv'\n",
    "TH = r'/content/drive/My Drive/Data/HKEX/trading halt.csv'\n",
    "\n",
    "ct = pd.read_csv(CCT)\n",
    "nt = pd.read_csv(NT)\n",
    "tk = pd.read_csv(TK)\n",
    "agm = pd.read_csv(AGM)\n",
    "th = pd.read_csv(TH)"
   ]
  },
  {
   "cell_type": "code",
   "execution_count": 3,
   "metadata": {
    "colab": {},
    "colab_type": "code",
    "id": "lcfr_xzp3gQf"
   },
   "outputs": [],
   "source": [
    "agm = agm[:3000]"
   ]
  },
  {
   "cell_type": "code",
   "execution_count": 4,
   "metadata": {
    "colab": {
     "base_uri": "https://localhost:8080/",
     "height": 555
    },
    "colab_type": "code",
    "id": "drXWpmTysMpI",
    "outputId": "fac3af1a-85b1-4956-b5ac-d57d646c399d"
   },
   "outputs": [
    {
     "data": {
      "text/html": [
       "<div>\n",
       "<style scoped>\n",
       "    .dataframe tbody tr th:only-of-type {\n",
       "        vertical-align: middle;\n",
       "    }\n",
       "\n",
       "    .dataframe tbody tr th {\n",
       "        vertical-align: top;\n",
       "    }\n",
       "\n",
       "    .dataframe thead th {\n",
       "        text-align: right;\n",
       "    }\n",
       "</style>\n",
       "<table border=\"1\" class=\"dataframe\">\n",
       "  <thead>\n",
       "    <tr style=\"text-align: right;\">\n",
       "      <th></th>\n",
       "      <th>URL</th>\n",
       "      <th>Text</th>\n",
       "      <th>Label</th>\n",
       "    </tr>\n",
       "  </thead>\n",
       "  <tbody>\n",
       "    <tr>\n",
       "      <th>0</th>\n",
       "      <td>https://www1.hkexnews.hk/listedco/listconews/s...</td>\n",
       "      <td>Hong Kong Exchanges and Clearing Limited and T...</td>\n",
       "      <td>Chapter 14A Connected Transaction Announcement</td>\n",
       "    </tr>\n",
       "    <tr>\n",
       "      <th>1</th>\n",
       "      <td>https://www1.hkexnews.hk/listedco/listconews/s...</td>\n",
       "      <td>Hong Kong Exchanges and Clearing Limited and T...</td>\n",
       "      <td>Chapter 14A Connected Transaction Announcement</td>\n",
       "    </tr>\n",
       "    <tr>\n",
       "      <th>2</th>\n",
       "      <td>https://www1.hkexnews.hk/listedco/listconews/s...</td>\n",
       "      <td>Hong Kong Exchanges and Clearing Limited and T...</td>\n",
       "      <td>Chapter 14A Connected Transaction Announcement</td>\n",
       "    </tr>\n",
       "    <tr>\n",
       "      <th>3</th>\n",
       "      <td>https://www1.hkexnews.hk/listedco/listconews/s...</td>\n",
       "      <td>Hong  Kong  Exchanges  and  Clearing  Limited ...</td>\n",
       "      <td>Chapter 14A Connected Transaction Announcement</td>\n",
       "    </tr>\n",
       "    <tr>\n",
       "      <th>4</th>\n",
       "      <td>https://www1.hkexnews.hk/listedco/listconews/s...</td>\n",
       "      <td>Hong Kong Exchanges and Clearing Limited and T...</td>\n",
       "      <td>Chapter 14A Connected Transaction Announcement</td>\n",
       "    </tr>\n",
       "    <tr>\n",
       "      <th>...</th>\n",
       "      <td>...</td>\n",
       "      <td>...</td>\n",
       "      <td>...</td>\n",
       "    </tr>\n",
       "    <tr>\n",
       "      <th>1108</th>\n",
       "      <td>https://www1.hkexnews.hk/listedco/listconews/s...</td>\n",
       "      <td>Hong Kong Exchanges and Clearing Limited and T...</td>\n",
       "      <td>Trading Halt</td>\n",
       "    </tr>\n",
       "    <tr>\n",
       "      <th>1109</th>\n",
       "      <td>https://www1.hkexnews.hk/listedco/listconews/s...</td>\n",
       "      <td>Hong  Kong  Exchanges  and  Clearing  Limited ...</td>\n",
       "      <td>Trading Halt</td>\n",
       "    </tr>\n",
       "    <tr>\n",
       "      <th>1110</th>\n",
       "      <td>https://www1.hkexnews.hk/listedco/listconews/s...</td>\n",
       "      <td>Hong Kong Exchanges and Clearing Limited and T...</td>\n",
       "      <td>Trading Halt</td>\n",
       "    </tr>\n",
       "    <tr>\n",
       "      <th>1111</th>\n",
       "      <td>https://www1.hkexnews.hk/listedco/listconews/s...</td>\n",
       "      <td>Hong Kong Exchanges and Clearing Limited and T...</td>\n",
       "      <td>Trading Halt</td>\n",
       "    </tr>\n",
       "    <tr>\n",
       "      <th>1112</th>\n",
       "      <td>https://www1.hkexnews.hk/listedco/listconews/s...</td>\n",
       "      <td>\\n\\n \\n\\nHong  Kong  Exchanges  and  Clearing...</td>\n",
       "      <td>Trading Halt</td>\n",
       "    </tr>\n",
       "  </tbody>\n",
       "</table>\n",
       "<p>8933 rows × 3 columns</p>\n",
       "</div>"
      ],
      "text/plain": [
       "                                                    URL  ...                                           Label\n",
       "0     https://www1.hkexnews.hk/listedco/listconews/s...  ...  Chapter 14A Connected Transaction Announcement\n",
       "1     https://www1.hkexnews.hk/listedco/listconews/s...  ...  Chapter 14A Connected Transaction Announcement\n",
       "2     https://www1.hkexnews.hk/listedco/listconews/s...  ...  Chapter 14A Connected Transaction Announcement\n",
       "3     https://www1.hkexnews.hk/listedco/listconews/s...  ...  Chapter 14A Connected Transaction Announcement\n",
       "4     https://www1.hkexnews.hk/listedco/listconews/s...  ...  Chapter 14A Connected Transaction Announcement\n",
       "...                                                 ...  ...                                             ...\n",
       "1108  https://www1.hkexnews.hk/listedco/listconews/s...  ...                                    Trading Halt\n",
       "1109  https://www1.hkexnews.hk/listedco/listconews/s...  ...                                    Trading Halt\n",
       "1110  https://www1.hkexnews.hk/listedco/listconews/s...  ...                                    Trading Halt\n",
       "1111  https://www1.hkexnews.hk/listedco/listconews/s...  ...                                    Trading Halt\n",
       "1112  https://www1.hkexnews.hk/listedco/listconews/s...  ...                                    Trading Halt\n",
       "\n",
       "[8933 rows x 3 columns]"
      ]
     },
     "execution_count": 4,
     "metadata": {
      "tags": []
     },
     "output_type": "execute_result"
    }
   ],
   "source": [
    "# Concat all data sources\n",
    "df = ct.append(nt).append(tk).append(agm).append(th)\n",
    "df"
   ]
  },
  {
   "cell_type": "code",
   "execution_count": 5,
   "metadata": {
    "colab": {},
    "colab_type": "code",
    "id": "OPedAMQt8NE8"
   },
   "outputs": [],
   "source": [
    "# Shuffle dataframe\n",
    "df = df.sample(frac = 1)\n"
   ]
  },
  {
   "cell_type": "code",
   "execution_count": 6,
   "metadata": {
    "colab": {
     "base_uri": "https://localhost:8080/",
     "height": 476
    },
    "colab_type": "code",
    "id": "TkD34Gm68R6t",
    "outputId": "64d487d8-3330-4321-c8af-ee1a23c94702"
   },
   "outputs": [
    {
     "data": {
      "text/html": [
       "<div>\n",
       "<style scoped>\n",
       "    .dataframe tbody tr th:only-of-type {\n",
       "        vertical-align: middle;\n",
       "    }\n",
       "\n",
       "    .dataframe tbody tr th {\n",
       "        vertical-align: top;\n",
       "    }\n",
       "\n",
       "    .dataframe thead th {\n",
       "        text-align: right;\n",
       "    }\n",
       "</style>\n",
       "<table border=\"1\" class=\"dataframe\">\n",
       "  <thead>\n",
       "    <tr style=\"text-align: right;\">\n",
       "      <th></th>\n",
       "      <th>URL</th>\n",
       "      <th>Text</th>\n",
       "      <th>Label</th>\n",
       "      <th>Notifiable Transaction</th>\n",
       "      <th>Takeover Offer</th>\n",
       "      <th>Connected Transaction</th>\n",
       "      <th>Notice of AGM</th>\n",
       "      <th>Trading Halt</th>\n",
       "    </tr>\n",
       "  </thead>\n",
       "  <tbody>\n",
       "    <tr>\n",
       "      <th>892</th>\n",
       "      <td>https://www1.hkexnews.hk/listedco/listconews/s...</td>\n",
       "      <td>Hong  Kong  Exchanges  and  Clearing  Limited ...</td>\n",
       "      <td>Trading Halt</td>\n",
       "      <td>0</td>\n",
       "      <td>0</td>\n",
       "      <td>0</td>\n",
       "      <td>0</td>\n",
       "      <td>1</td>\n",
       "    </tr>\n",
       "    <tr>\n",
       "      <th>2033</th>\n",
       "      <td>https://www1.hkexnews.hk/listedco/listconews/s...</td>\n",
       "      <td>Hong Kong Exchanges and Clearing Limited and T...</td>\n",
       "      <td>Notifiable Transactions</td>\n",
       "      <td>1</td>\n",
       "      <td>0</td>\n",
       "      <td>0</td>\n",
       "      <td>0</td>\n",
       "      <td>0</td>\n",
       "    </tr>\n",
       "    <tr>\n",
       "      <th>170</th>\n",
       "      <td>https://www1.hkexnews.hk/listedco/listconews/s...</td>\n",
       "      <td>Hong Kong Exchanges and Clearing Limited and T...</td>\n",
       "      <td>Trading Halt</td>\n",
       "      <td>0</td>\n",
       "      <td>0</td>\n",
       "      <td>0</td>\n",
       "      <td>0</td>\n",
       "      <td>1</td>\n",
       "    </tr>\n",
       "    <tr>\n",
       "      <th>1540</th>\n",
       "      <td>https://www1.hkexnews.hk/listedco/listconews/s...</td>\n",
       "      <td>Hong Kong Exchanges and Clearing Limited and T...</td>\n",
       "      <td>Notifiable Transactions</td>\n",
       "      <td>1</td>\n",
       "      <td>0</td>\n",
       "      <td>0</td>\n",
       "      <td>0</td>\n",
       "      <td>0</td>\n",
       "    </tr>\n",
       "    <tr>\n",
       "      <th>763</th>\n",
       "      <td>https://www1.hkexnews.hk/listedco/listconews/s...</td>\n",
       "      <td>Hong  Kong  Exchanges  and  Clearing  Limited ...</td>\n",
       "      <td>Trading Halt</td>\n",
       "      <td>0</td>\n",
       "      <td>0</td>\n",
       "      <td>0</td>\n",
       "      <td>0</td>\n",
       "      <td>1</td>\n",
       "    </tr>\n",
       "  </tbody>\n",
       "</table>\n",
       "</div>"
      ],
      "text/plain": [
       "                                                    URL  ... Trading Halt\n",
       "892   https://www1.hkexnews.hk/listedco/listconews/s...  ...            1\n",
       "2033  https://www1.hkexnews.hk/listedco/listconews/s...  ...            0\n",
       "170   https://www1.hkexnews.hk/listedco/listconews/s...  ...            1\n",
       "1540  https://www1.hkexnews.hk/listedco/listconews/s...  ...            0\n",
       "763   https://www1.hkexnews.hk/listedco/listconews/s...  ...            1\n",
       "\n",
       "[5 rows x 8 columns]"
      ]
     },
     "execution_count": 6,
     "metadata": {
      "tags": []
     },
     "output_type": "execute_result"
    }
   ],
   "source": [
    "# Create matrix of labels\n",
    "df['Notifiable Transaction'] = df.Label.apply(lambda x: 1 if x == \"Notifiable Transactions\" else 0)\n",
    "df['Takeover Offer'] = df.Label.apply(lambda x: 1 if x == \"Takeovers Code 3.7 Announcement\" else 0)\n",
    "df['Connected Transaction'] = df.Label.apply(lambda x:1 if x == \"Chapter 14A Connected Transaction Announcement\" else 0)\n",
    "df['Notice of AGM'] = df.Label.apply(lambda x:1 if x == \"Notice of AGM\" else 0)\n",
    "df['Trading Halt'] = df.Label.apply(lambda x:1 if x == 'Trading Halt' else 0)\n",
    "df.head()"
   ]
  },
  {
   "cell_type": "code",
   "execution_count": 7,
   "metadata": {
    "colab": {
     "base_uri": "https://localhost:8080/",
     "height": 204
    },
    "colab_type": "code",
    "id": "Jx9omPg7Bj7R",
    "outputId": "0d63f9de-e70a-480f-d9c9-4844ea4d5b2c"
   },
   "outputs": [
    {
     "data": {
      "text/html": [
       "<div>\n",
       "<style scoped>\n",
       "    .dataframe tbody tr th:only-of-type {\n",
       "        vertical-align: middle;\n",
       "    }\n",
       "\n",
       "    .dataframe tbody tr th {\n",
       "        vertical-align: top;\n",
       "    }\n",
       "\n",
       "    .dataframe thead th {\n",
       "        text-align: right;\n",
       "    }\n",
       "</style>\n",
       "<table border=\"1\" class=\"dataframe\">\n",
       "  <thead>\n",
       "    <tr style=\"text-align: right;\">\n",
       "      <th></th>\n",
       "      <th>Notifiable Transaction</th>\n",
       "      <th>Takeover Offer</th>\n",
       "      <th>Connected Transaction</th>\n",
       "      <th>Notice of AGM</th>\n",
       "      <th>Trading Halt</th>\n",
       "    </tr>\n",
       "  </thead>\n",
       "  <tbody>\n",
       "    <tr>\n",
       "      <th>892</th>\n",
       "      <td>0</td>\n",
       "      <td>0</td>\n",
       "      <td>0</td>\n",
       "      <td>0</td>\n",
       "      <td>1</td>\n",
       "    </tr>\n",
       "    <tr>\n",
       "      <th>2033</th>\n",
       "      <td>1</td>\n",
       "      <td>0</td>\n",
       "      <td>0</td>\n",
       "      <td>0</td>\n",
       "      <td>0</td>\n",
       "    </tr>\n",
       "    <tr>\n",
       "      <th>170</th>\n",
       "      <td>0</td>\n",
       "      <td>0</td>\n",
       "      <td>0</td>\n",
       "      <td>0</td>\n",
       "      <td>1</td>\n",
       "    </tr>\n",
       "    <tr>\n",
       "      <th>1540</th>\n",
       "      <td>1</td>\n",
       "      <td>0</td>\n",
       "      <td>0</td>\n",
       "      <td>0</td>\n",
       "      <td>0</td>\n",
       "    </tr>\n",
       "    <tr>\n",
       "      <th>763</th>\n",
       "      <td>0</td>\n",
       "      <td>0</td>\n",
       "      <td>0</td>\n",
       "      <td>0</td>\n",
       "      <td>1</td>\n",
       "    </tr>\n",
       "  </tbody>\n",
       "</table>\n",
       "</div>"
      ],
      "text/plain": [
       "      Notifiable Transaction  Takeover Offer  ...  Notice of AGM  Trading Halt\n",
       "892                        0               0  ...              0             1\n",
       "2033                       1               0  ...              0             0\n",
       "170                        0               0  ...              0             1\n",
       "1540                       1               0  ...              0             0\n",
       "763                        0               0  ...              0             1\n",
       "\n",
       "[5 rows x 5 columns]"
      ]
     },
     "execution_count": 7,
     "metadata": {
      "tags": []
     },
     "output_type": "execute_result"
    }
   ],
   "source": [
    "# Extract matrix of labels\n",
    "labels = df[['Notifiable Transaction', 'Takeover Offer', 'Connected Transaction', 'Notice of AGM', 'Trading Halt']]\n",
    "labels.head()"
   ]
  },
  {
   "cell_type": "code",
   "execution_count": 8,
   "metadata": {
    "colab": {},
    "colab_type": "code",
    "id": "B63v_rp-hGNY"
   },
   "outputs": [],
   "source": [
    "# Text Preprocessing, removing stop words vastly decreased training accuracy\n",
    "def preprocess(corpus):\n",
    "    corpus = corpus.lower()\n",
    "    cleanr = re.compile(r'[^a-z 0-9]')\n",
    "    corpus = re.sub('\\n', ' ', corpus)\n",
    "    corpus = re.sub(cleanr, ' ', corpus)\n",
    "    corpus = re.sub(r'\\s+', ' ', corpus)\n",
    "  #  corpus = ' '.join([word for word in corpus.split() if word not in stopwords.words('english')])\n",
    "    return corpus"
   ]
  },
  {
   "cell_type": "code",
   "execution_count": 9,
   "metadata": {
    "colab": {},
    "colab_type": "code",
    "id": "ZgPSS8g3CzNj"
   },
   "outputs": [],
   "source": [
    "# Extract X Y values\n",
    "corpus_list = list(df.Text)\n",
    "X = [preprocess(corpus) for corpus in corpus_list]\n",
    "\n",
    "Y = labels.values"
   ]
  },
  {
   "cell_type": "code",
   "execution_count": 10,
   "metadata": {
    "colab": {},
    "colab_type": "code",
    "id": "tXIHQLU6ATOL"
   },
   "outputs": [],
   "source": [
    "# Create train-test split\n",
    "\n",
    "X_train, X_test, Y_train, Y_test = train_test_split(X, Y, test_size=0.2)"
   ]
  },
  {
   "cell_type": "code",
   "execution_count": 11,
   "metadata": {
    "colab": {
     "base_uri": "https://localhost:8080/",
     "height": 51
    },
    "colab_type": "code",
    "id": "qcru1ir9FAC1",
    "outputId": "47f324cd-446d-449f-896a-5e4fbc04ff64"
   },
   "outputs": [
    {
     "name": "stdout",
     "output_type": "stream",
     "text": [
      "vocab_size = 45510\n",
      "max length = 1500\n"
     ]
    }
   ],
   "source": [
    "# Process X data into tokenized and padded input\n",
    "tokenizer = Tokenizer(num_words=5000)\n",
    "tokenizer.fit_on_texts(X_train)\n",
    "\n",
    "X_train = tokenizer.texts_to_sequences(X_train)\n",
    "X_test = tokenizer.texts_to_sequences(X_test)\n",
    "\n",
    "vocab_size = len(tokenizer.word_index) + 1\n",
    "max_len = 1500\n",
    "X_train = pad_sequences(X_train, padding = 'post', maxlen = max_len)\n",
    "X_test = pad_sequences(X_test, padding = 'post', maxlen = max_len)\n",
    "\n",
    "print(f'vocab_size = {vocab_size}')\n",
    "print(f'max length = {max_len}')"
   ]
  },
  {
   "cell_type": "code",
   "execution_count": 12,
   "metadata": {
    "colab": {},
    "colab_type": "code",
    "id": "alQ4pPoXg6bZ"
   },
   "outputs": [],
   "source": [
    "# Load glove embeddings, create embedding matrix\n",
    "glove_path = r'/content/drive/My Drive/Data/glove.6B.100d.txt'\n",
    "\n",
    "embeddings_dictionary = dict()\n",
    "\n",
    "with open(glove_path) as glove:\n",
    "    for line in glove:\n",
    "        records = line.split()\n",
    "        word = records[0]\n",
    "        vector_dims = np.asarray(records[1:], dtype='float32')\n",
    "        embeddings_dictionary[word] = vector_dims\n",
    "embedding_matrix = np.zeros((vocab_size, 100))\n",
    "for word, index in tokenizer.word_index.items():\n",
    "    embedding_vector = embeddings_dictionary.get(word)\n",
    "    if embedding_vector is not None:\n",
    "        embedding_matrix[index] = embedding_vector"
   ]
  },
  {
   "cell_type": "code",
   "execution_count": 13,
   "metadata": {
    "colab": {},
    "colab_type": "code",
    "id": "hZkLae5mAzdD"
   },
   "outputs": [],
   "source": [
    "def RNN():\n",
    "    inputs = Input(shape = (max_len,))\n",
    "    layer = Embedding(vocab_size, 100, weights=[embedding_matrix], trainable=True)(inputs)\n",
    "#    layer = Embedding(vocab_size, 300, input_length=max_len)(inputs)\n",
    "    layer = Bidirectional(LSTM(128))(layer)\n",
    "    layer = Dropout(0.8)(layer)\n",
    "    layer = Dense(256)(layer)\n",
    "    layer = Activation('relu')(layer)\n",
    "    layer = Dropout(0.8)(layer)\n",
    "    layer = Dense(5)(layer)\n",
    "    layer = Activation('sigmoid')(layer)\n",
    "    model = Model(inputs=inputs, outputs=layer)\n",
    "    return model"
   ]
  },
  {
   "cell_type": "code",
   "execution_count": 14,
   "metadata": {
    "colab": {
     "base_uri": "https://localhost:8080/",
     "height": 1000
    },
    "colab_type": "code",
    "id": "KWTbY8KNA2Kd",
    "outputId": "f841f9e2-f574-4c58-9e77-65df1b9d2f0a"
   },
   "outputs": [
    {
     "name": "stdout",
     "output_type": "stream",
     "text": [
      "Model: \"functional_1\"\n",
      "_________________________________________________________________\n",
      "Layer (type)                 Output Shape              Param #   \n",
      "=================================================================\n",
      "input_1 (InputLayer)         [(None, 1500)]            0         \n",
      "_________________________________________________________________\n",
      "embedding (Embedding)        (None, 1500, 100)         4551000   \n",
      "_________________________________________________________________\n",
      "bidirectional (Bidirectional (None, 256)               234496    \n",
      "_________________________________________________________________\n",
      "dropout (Dropout)            (None, 256)               0         \n",
      "_________________________________________________________________\n",
      "dense (Dense)                (None, 256)               65792     \n",
      "_________________________________________________________________\n",
      "activation (Activation)      (None, 256)               0         \n",
      "_________________________________________________________________\n",
      "dropout_1 (Dropout)          (None, 256)               0         \n",
      "_________________________________________________________________\n",
      "dense_1 (Dense)              (None, 5)                 1285      \n",
      "_________________________________________________________________\n",
      "activation_1 (Activation)    (None, 5)                 0         \n",
      "=================================================================\n",
      "Total params: 4,852,573\n",
      "Trainable params: 4,852,573\n",
      "Non-trainable params: 0\n",
      "_________________________________________________________________\n"
     ]
    },
    {
     "data": {
      "image/png": "[encoded data removed]",
      "text/plain": [
       "<IPython.core.display.Image object>"
      ]
     },
     "execution_count": 14,
     "metadata": {
      "tags": []
     },
     "output_type": "execute_result"
    }
   ],
   "source": [
    "model = RNN()\n",
    "model.summary()\n",
    "model.compile(loss='binary_crossentropy', optimizer='adam', metrics=['accuracy'])"
   ]
  },
  {
   "cell_type": "code",
   "execution_count": 15,
   "metadata": {
    "colab": {},
    "colab_type": "code",
    "id": "3w0oWiXDCy9Z"
   },
   "outputs": [],
   "source": [
    "es = EarlyStopping(monitor='val_loss', verbose=1, patience=3, restore_best_weights=True)"
   ]
  },
  {
   "cell_type": "code",
   "execution_count": 16,
   "metadata": {
    "colab": {
     "base_uri": "https://localhost:8080/",
     "height": 547
    },
    "colab_type": "code",
    "id": "92X6CfQTDzan",
    "outputId": "4187fd1f-2103-4764-d257-bd851100fb9c"
   },
   "outputs": [
    {
     "name": "stdout",
     "output_type": "stream",
     "text": [
      "Epoch 1/20\n",
      "447/447 [==============================] - 209s 467ms/step - loss: 0.4277 - accuracy: 0.4562 - val_loss: 0.2976 - val_accuracy: 0.6626\n",
      "Epoch 2/20\n",
      "447/447 [==============================] - 208s 465ms/step - loss: 0.3659 - accuracy: 0.5509 - val_loss: 0.3061 - val_accuracy: 0.6458\n",
      "Epoch 3/20\n",
      "447/447 [==============================] - 208s 465ms/step - loss: 0.3275 - accuracy: 0.5985 - val_loss: 0.2888 - val_accuracy: 0.6307\n",
      "Epoch 4/20\n",
      "447/447 [==============================] - 207s 463ms/step - loss: 0.2622 - accuracy: 0.6920 - val_loss: 0.2087 - val_accuracy: 0.7605\n",
      "Epoch 5/20\n",
      "447/447 [==============================] - 208s 464ms/step - loss: 0.2200 - accuracy: 0.7492 - val_loss: 0.2002 - val_accuracy: 0.7678\n",
      "Epoch 6/20\n",
      "447/447 [==============================] - 208s 465ms/step - loss: 0.2353 - accuracy: 0.7028 - val_loss: 0.2178 - val_accuracy: 0.7241\n",
      "Epoch 7/20\n",
      "447/447 [==============================] - 208s 464ms/step - loss: 0.2286 - accuracy: 0.7212 - val_loss: 0.3284 - val_accuracy: 0.7001\n",
      "Epoch 8/20\n",
      "447/447 [==============================] - 208s 465ms/step - loss: 0.2339 - accuracy: 0.7119 - val_loss: 0.1904 - val_accuracy: 0.7823\n",
      "Epoch 9/20\n",
      "447/447 [==============================] - 208s 465ms/step - loss: 0.1784 - accuracy: 0.8006 - val_loss: 0.1314 - val_accuracy: 0.8747\n",
      "Epoch 10/20\n",
      "447/447 [==============================] - 208s 465ms/step - loss: 0.1651 - accuracy: 0.7946 - val_loss: 0.1611 - val_accuracy: 0.8142\n",
      "Epoch 11/20\n",
      "447/447 [==============================] - 208s 465ms/step - loss: 0.1248 - accuracy: 0.8599 - val_loss: 0.0894 - val_accuracy: 0.9099\n",
      "Epoch 12/20\n",
      "447/447 [==============================] - 208s 466ms/step - loss: 0.0770 - accuracy: 0.9271 - val_loss: 0.1032 - val_accuracy: 0.9228\n",
      "Epoch 13/20\n",
      "447/447 [==============================] - 208s 464ms/step - loss: 0.0717 - accuracy: 0.9360 - val_loss: 0.1112 - val_accuracy: 0.9172\n",
      "Epoch 14/20\n",
      "447/447 [==============================] - ETA: 0s - loss: 0.0570 - accuracy: 0.9561Restoring model weights from the end of the best epoch.\n",
      "447/447 [==============================] - 208s 466ms/step - loss: 0.0570 - accuracy: 0.9561 - val_loss: 0.1110 - val_accuracy: 0.9261\n",
      "Epoch 00014: early stopping\n"
     ]
    }
   ],
   "source": [
    "history = model.fit(X_train, Y_train,\n",
    "                    epochs=20,\n",
    "                    validation_data=(X_test, Y_test),\n",
    "                    batch_size=16,\n",
    "                    callbacks=[es])"
   ]
  },
  {
   "cell_type": "code",
   "execution_count": 17,
   "metadata": {
    "colab": {
     "base_uri": "https://localhost:8080/",
     "height": 85
    },
    "colab_type": "code",
    "id": "pVPiSNR8H-_q",
    "outputId": "43afd8dd-c2eb-4ae1-adb8-0d222f4f6bf0"
   },
   "outputs": [
    {
     "name": "stdout",
     "output_type": "stream",
     "text": [
      "56/56 [==============================] - 9s 160ms/step - loss: 0.0894 - accuracy: 0.9099\n",
      "Validation set results \n",
      "Loss: 0.08941274881362915 \n",
      "Accuracy: 0.9099048972129822\n"
     ]
    }
   ],
   "source": [
    "acc = model.evaluate(X_test, Y_test)\n",
    "print(f'Validation set results \\nLoss: {acc[0]} \\nAccuracy: {acc[1]}')"
   ]
  },
  {
   "cell_type": "code",
   "execution_count": 18,
   "metadata": {
    "colab": {
     "base_uri": "https://localhost:8080/",
     "height": 337
    },
    "colab_type": "code",
    "id": "vk2nitt3D_kg",
    "outputId": "628f5da2-33b2-4fa6-8d23-e4558348f81a"
   },
   "outputs": [
    {
     "data": {
      "image/png": "[encoded data removed]",
      "text/plain": [
       "<Figure size 864x360 with 2 Axes>"
      ]
     },
     "metadata": {
      "tags": []
     },
     "output_type": "display_data"
    }
   ],
   "source": [
    "plt.style.use('ggplot')\n",
    "\n",
    "def plot_history(history):\n",
    "    acc = history.history['accuracy']\n",
    "    val_acc = history.history['val_accuracy']\n",
    "    loss = history.history['loss']\n",
    "    val_loss = history.history['val_loss']\n",
    "    x = range(1, len(acc) + 1)\n",
    "\n",
    "    plt.figure(figsize=(12, 5))\n",
    "    plt.subplot(1, 2, 1)\n",
    "    plt.plot(x, acc, 'b', label='Training acc')\n",
    "    plt.plot(x, val_acc, 'r', label='Validation acc')\n",
    "    plt.title('Training and validation accuracy')\n",
    "    plt.legend()\n",
    "    plt.subplot(1,2,2)\n",
    "    plt.plot(x, loss, 'b', label = 'Training loss')\n",
    "    plt.plot(val_loss, 'r', label = 'Validation loss')\n",
    "    plt.title('Training and Validation loss')\n",
    "    plt.legend()\n",
    "\n",
    "plot_history(history)"
   ]
  },
  {
   "cell_type": "code",
   "execution_count": 19,
   "metadata": {
    "colab": {},
    "colab_type": "code",
    "id": "yavJ6tXWc9F7"
   },
   "outputs": [],
   "source": [
    "model.save('/content/drive/My Drive/Data/HKEX/model.h5')"
   ]
  },
  {
   "cell_type": "code",
   "execution_count": 22,
   "metadata": {
    "colab": {},
    "colab_type": "code",
    "id": "VcwAXGWVeOmY"
   },
   "outputs": [],
   "source": [
    "test = [''' YOUR TEXT HERE ''']"
   ]
  },
  {
   "cell_type": "code",
   "execution_count": 25,
   "metadata": {
    "colab": {
     "base_uri": "https://localhost:8080/",
     "height": 34
    },
    "colab_type": "code",
    "id": "WMA50pknnqCw",
    "outputId": "49ae67ad-9949-4b8d-b908-3714aaa85083"
   },
   "outputs": [
    {
     "name": "stdout",
     "output_type": "stream",
     "text": [
      "Prediction: Notifiable Transaction with 93.18206024169922% confidence\n"
     ]
    }
   ],
   "source": [
    "# Predict class of example \n",
    "\n",
    "\n",
    "seq = tokenizer.texts_to_sequences(test)\n",
    "padded = pad_sequences(seq, maxlen=max_len)\n",
    "pred = model.predict(padded)\n",
    "labels_pred = ['Notifiable Transaction', 'Takeover Offer', 'Connected Transaction', 'Notice of AGM', 'Trading Halt']\n",
    "np.set_printoptions(precision=2, suppress=True)\n",
    "normalised = pred/np.sum(pred)*100\n",
    "confidence = float(normalised.astype(float).reshape(len(labels_pred),-1)[np.argmax(pred)])\n",
    "\n",
    "\n",
    "print(f'Prediction: {labels_pred[np.argmax(pred)]} with {confidence}% confidence')"
   ]
  }
 ],
 "metadata": {
  "accelerator": "GPU",
  "colab": {
   "collapsed_sections": [],
   "name": "HKEX Announcement Classifer.ipynb",
   "provenance": []
  },
  "kernelspec": {
   "display_name": "Python 3",
   "language": "python",
   "name": "python3"
  },
  "language_info": {
   "codemirror_mode": {
    "name": "ipython",
    "version": 3
   },
   "file_extension": ".py",
   "mimetype": "text/x-python",
   "name": "python",
   "nbconvert_exporter": "python",
   "pygments_lexer": "ipython3",
   "version": "3.8.1"
  }
 },
 "nbformat": 4,
 "nbformat_minor": 1
}
