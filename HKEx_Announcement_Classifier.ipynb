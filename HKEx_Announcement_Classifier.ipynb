{
  "nbformat": 4,
  "nbformat_minor": 0,
  "metadata": {
    "colab": {
      "name": "HKEx Announcement Classifier.ipynb",
      "provenance": [],
      "collapsed_sections": []
    },
    "kernelspec": {
      "name": "python3",
      "display_name": "Python 3"
    },
    "accelerator": "GPU"
  },
  "cells": [
    {
      "cell_type": "markdown",
      "metadata": {
        "id": "X2rvzkc0Wjzu",
        "colab_type": "text"
      },
      "source": [
        "## Multiclass Classifier for Announcements issued by Listed Companies on the Hong Kong Stock Exchange"
      ]
    },
    {
      "cell_type": "code",
      "metadata": {
        "id": "pbT9HLCf_SRj",
        "colab_type": "code",
        "colab": {}
      },
      "source": [
        "import pandas as pd\n",
        "import numpy as np\n",
        "import re\n",
        "\n",
        "from sklearn.model_selection import train_test_split\n",
        "from keras.models import Model, Sequential\n",
        "from keras.layers import Bidirectional, LSTM, Activation, Dense, Dropout, Input, Embedding\n",
        "from keras.preprocessing.text import Tokenizer\n",
        "from keras.preprocessing.sequence import pad_sequences\n",
        "from keras.callbacks import EarlyStopping\n",
        "from tensorflow import keras\n",
        "from keras.utils import plot_model\n",
        "\n",
        "from plotly.subplots import make_subplots\n",
        "import plotly.graph_objects as go\n",
        "import plotly"
      ],
      "execution_count": 1,
      "outputs": []
    },
    {
      "cell_type": "code",
      "metadata": {
        "id": "mFpvnZtN_vaX",
        "colab_type": "code",
        "colab": {}
      },
      "source": [
        "# Get data from scraped CSVs\n",
        "CCT = '/content/drive/My Drive/Data/HKEX/ch14A_cct.csv'\n",
        "NT = '/content/drive/My Drive/Data/HKEX/notifiable_transactions.csv'\n",
        "TK = '/content/drive/My Drive/Data/HKEX/takeovers_code_3_7.csv'\n",
        "AGM = '/content/drive/My Drive/Data/HKEX/notice_of_agm.csv'\n",
        "TH = r'/content/drive/My Drive/Data/HKEX/trading halt.csv'\n",
        "AR = '/content/drive/My Drive/Data/HKEX/annual_results_annt.csv'\n",
        "\n",
        "ct = pd.read_csv(CCT)\n",
        "nt = pd.read_csv(NT)\n",
        "tk = pd.read_csv(TK)\n",
        "agm = pd.read_csv(AGM)\n",
        "th = pd.read_csv(TH)\n",
        "ar = pd.read_csv(AR)"
      ],
      "execution_count": 2,
      "outputs": []
    },
    {
      "cell_type": "code",
      "metadata": {
        "id": "lcfr_xzp3gQf",
        "colab_type": "code",
        "colab": {}
      },
      "source": [
        "# Trim data sources such that the amount of training examples from different categories are not vastly different\n",
        "agm = agm.sample(frac=1)\n",
        "agm = agm[:3000]\n",
        "ar = ar.sample(frac=1)\n",
        "ar = ar[:3000]"
      ],
      "execution_count": 3,
      "outputs": []
    },
    {
      "cell_type": "code",
      "metadata": {
        "id": "drXWpmTysMpI",
        "colab_type": "code",
        "colab": {
          "base_uri": "https://localhost:8080/",
          "height": 419
        },
        "outputId": "4b9560d6-2248-4095-e09a-b25d60e9bbc8"
      },
      "source": [
        "# Concat all data sources\n",
        "df = ct.append(nt).append(tk).append(agm).append(th).append(ar)\n",
        "df"
      ],
      "execution_count": 4,
      "outputs": [
        {
          "output_type": "execute_result",
          "data": {
            "text/html": [
              "<div>\n",
              "<style scoped>\n",
              "    .dataframe tbody tr th:only-of-type {\n",
              "        vertical-align: middle;\n",
              "    }\n",
              "\n",
              "    .dataframe tbody tr th {\n",
              "        vertical-align: top;\n",
              "    }\n",
              "\n",
              "    .dataframe thead th {\n",
              "        text-align: right;\n",
              "    }\n",
              "</style>\n",
              "<table border=\"1\" class=\"dataframe\">\n",
              "  <thead>\n",
              "    <tr style=\"text-align: right;\">\n",
              "      <th></th>\n",
              "      <th>URL</th>\n",
              "      <th>Text</th>\n",
              "      <th>Label</th>\n",
              "    </tr>\n",
              "  </thead>\n",
              "  <tbody>\n",
              "    <tr>\n",
              "      <th>0</th>\n",
              "      <td>https://www1.hkexnews.hk/listedco/listconews/s...</td>\n",
              "      <td>Hong Kong Exchanges and Clearing Limited and T...</td>\n",
              "      <td>Chapter 14A Connected Transaction Announcement</td>\n",
              "    </tr>\n",
              "    <tr>\n",
              "      <th>1</th>\n",
              "      <td>https://www1.hkexnews.hk/listedco/listconews/s...</td>\n",
              "      <td>Hong Kong Exchanges and Clearing Limited and T...</td>\n",
              "      <td>Chapter 14A Connected Transaction Announcement</td>\n",
              "    </tr>\n",
              "    <tr>\n",
              "      <th>2</th>\n",
              "      <td>https://www1.hkexnews.hk/listedco/listconews/s...</td>\n",
              "      <td>Hong Kong Exchanges and Clearing Limited and T...</td>\n",
              "      <td>Chapter 14A Connected Transaction Announcement</td>\n",
              "    </tr>\n",
              "    <tr>\n",
              "      <th>3</th>\n",
              "      <td>https://www1.hkexnews.hk/listedco/listconews/s...</td>\n",
              "      <td>Hong  Kong  Exchanges  and  Clearing  Limited ...</td>\n",
              "      <td>Chapter 14A Connected Transaction Announcement</td>\n",
              "    </tr>\n",
              "    <tr>\n",
              "      <th>4</th>\n",
              "      <td>https://www1.hkexnews.hk/listedco/listconews/s...</td>\n",
              "      <td>Hong Kong Exchanges and Clearing Limited and T...</td>\n",
              "      <td>Chapter 14A Connected Transaction Announcement</td>\n",
              "    </tr>\n",
              "    <tr>\n",
              "      <th>...</th>\n",
              "      <td>...</td>\n",
              "      <td>...</td>\n",
              "      <td>...</td>\n",
              "    </tr>\n",
              "    <tr>\n",
              "      <th>1803</th>\n",
              "      <td>https://www1.hkexnews.hk/listedco/listconews/s...</td>\n",
              "      <td>Hong Kong Exchanges and Clearing Limited and T...</td>\n",
              "      <td>Annual Results Announcement</td>\n",
              "    </tr>\n",
              "    <tr>\n",
              "      <th>1370</th>\n",
              "      <td>https://www1.hkexnews.hk/listedco/listconews/s...</td>\n",
              "      <td>Hong Kong Exchanges and Clearing Limited and T...</td>\n",
              "      <td>Annual Results Announcement</td>\n",
              "    </tr>\n",
              "    <tr>\n",
              "      <th>1107</th>\n",
              "      <td>https://www1.hkexnews.hk/listedco/listconews/s...</td>\n",
              "      <td>Hong  Kong  Exchanges  and  Clearing  Limited ...</td>\n",
              "      <td>Annual Results Announcement</td>\n",
              "    </tr>\n",
              "    <tr>\n",
              "      <th>90</th>\n",
              "      <td>https://www1.hkexnews.hk/listedco/listconews/g...</td>\n",
              "      <td>Hong Kong Exchanges and Clearing Limited and T...</td>\n",
              "      <td>Annual Results Announcement</td>\n",
              "    </tr>\n",
              "    <tr>\n",
              "      <th>2639</th>\n",
              "      <td>https://www.hkexnews.hk/listedco/listconews/se...</td>\n",
              "      <td>Hong Kong Exchanges and Clearing Limited and T...</td>\n",
              "      <td>Annual Results Announcement</td>\n",
              "    </tr>\n",
              "  </tbody>\n",
              "</table>\n",
              "<p>11933 rows × 3 columns</p>\n",
              "</div>"
            ],
            "text/plain": [
              "                                                    URL  ...                                           Label\n",
              "0     https://www1.hkexnews.hk/listedco/listconews/s...  ...  Chapter 14A Connected Transaction Announcement\n",
              "1     https://www1.hkexnews.hk/listedco/listconews/s...  ...  Chapter 14A Connected Transaction Announcement\n",
              "2     https://www1.hkexnews.hk/listedco/listconews/s...  ...  Chapter 14A Connected Transaction Announcement\n",
              "3     https://www1.hkexnews.hk/listedco/listconews/s...  ...  Chapter 14A Connected Transaction Announcement\n",
              "4     https://www1.hkexnews.hk/listedco/listconews/s...  ...  Chapter 14A Connected Transaction Announcement\n",
              "...                                                 ...  ...                                             ...\n",
              "1803  https://www1.hkexnews.hk/listedco/listconews/s...  ...                     Annual Results Announcement\n",
              "1370  https://www1.hkexnews.hk/listedco/listconews/s...  ...                     Annual Results Announcement\n",
              "1107  https://www1.hkexnews.hk/listedco/listconews/s...  ...                     Annual Results Announcement\n",
              "90    https://www1.hkexnews.hk/listedco/listconews/g...  ...                     Annual Results Announcement\n",
              "2639  https://www.hkexnews.hk/listedco/listconews/se...  ...                     Annual Results Announcement\n",
              "\n",
              "[11933 rows x 3 columns]"
            ]
          },
          "metadata": {
            "tags": []
          },
          "execution_count": 4
        }
      ]
    },
    {
      "cell_type": "code",
      "metadata": {
        "id": "OPedAMQt8NE8",
        "colab_type": "code",
        "colab": {}
      },
      "source": [
        "# Shuffle dataframe\n",
        "df = df.sample(frac = 1)"
      ],
      "execution_count": 5,
      "outputs": []
    },
    {
      "cell_type": "code",
      "metadata": {
        "id": "TkD34Gm68R6t",
        "colab_type": "code",
        "colab": {
          "base_uri": "https://localhost:8080/",
          "height": 717
        },
        "outputId": "ea167289-1374-46bd-ecdc-851e5568f378"
      },
      "source": [
        "# Create matrix of labels\n",
        "df['Notifiable Transaction'] = df.Label.apply(lambda x: 1 if x == \"Notifiable Transactions\" else 0)\n",
        "df['Takeover Offer'] = df.Label.apply(lambda x: 1 if x == \"Takeovers Code 3.7 Announcement\" else 0)\n",
        "df['Connected Transaction'] = df.Label.apply(lambda x:1 if x == \"Chapter 14A Connected Transaction Announcement\" else 0)\n",
        "df['Notice of AGM'] = df.Label.apply(lambda x:1 if x == \"Notice of AGM\" else 0)\n",
        "df['Trading Halt'] = df.Label.apply(lambda x:1 if x == 'Trading Halt' else 0)\n",
        "df['Annual Results'] = df.Label.apply(lambda x:1 if x == 'Annual Results Announcement' else 0)\n",
        "df.head()"
      ],
      "execution_count": 6,
      "outputs": [
        {
          "output_type": "execute_result",
          "data": {
            "text/html": [
              "<div>\n",
              "<style scoped>\n",
              "    .dataframe tbody tr th:only-of-type {\n",
              "        vertical-align: middle;\n",
              "    }\n",
              "\n",
              "    .dataframe tbody tr th {\n",
              "        vertical-align: top;\n",
              "    }\n",
              "\n",
              "    .dataframe thead th {\n",
              "        text-align: right;\n",
              "    }\n",
              "</style>\n",
              "<table border=\"1\" class=\"dataframe\">\n",
              "  <thead>\n",
              "    <tr style=\"text-align: right;\">\n",
              "      <th></th>\n",
              "      <th>URL</th>\n",
              "      <th>Text</th>\n",
              "      <th>Label</th>\n",
              "      <th>Notifiable Transaction</th>\n",
              "      <th>Takeover Offer</th>\n",
              "      <th>Connected Transaction</th>\n",
              "      <th>Notice of AGM</th>\n",
              "      <th>Trading Halt</th>\n",
              "      <th>Annual Results</th>\n",
              "    </tr>\n",
              "  </thead>\n",
              "  <tbody>\n",
              "    <tr>\n",
              "      <th>2301</th>\n",
              "      <td>https://www1.hkexnews.hk/listedco/listconews/s...</td>\n",
              "      <td>Hong  Kong  Exchanges  and  Clearing  Limited ...</td>\n",
              "      <td>Notifiable Transactions</td>\n",
              "      <td>1</td>\n",
              "      <td>0</td>\n",
              "      <td>0</td>\n",
              "      <td>0</td>\n",
              "      <td>0</td>\n",
              "      <td>0</td>\n",
              "    </tr>\n",
              "    <tr>\n",
              "      <th>1507</th>\n",
              "      <td>https://www1.hkexnews.hk/listedco/listconews/s...</td>\n",
              "      <td>Hong Kong Exchanges and Clearing Limited and T...</td>\n",
              "      <td>Notifiable Transactions</td>\n",
              "      <td>1</td>\n",
              "      <td>0</td>\n",
              "      <td>0</td>\n",
              "      <td>0</td>\n",
              "      <td>0</td>\n",
              "      <td>0</td>\n",
              "    </tr>\n",
              "    <tr>\n",
              "      <th>499</th>\n",
              "      <td>https://www1.hkexnews.hk/listedco/listconews/s...</td>\n",
              "      <td>Hong Kong Exchanges and Clearing Limited and T...</td>\n",
              "      <td>Trading Halt</td>\n",
              "      <td>0</td>\n",
              "      <td>0</td>\n",
              "      <td>0</td>\n",
              "      <td>0</td>\n",
              "      <td>1</td>\n",
              "      <td>0</td>\n",
              "    </tr>\n",
              "    <tr>\n",
              "      <th>532</th>\n",
              "      <td>https://www1.hkexnews.hk/listedco/listconews/s...</td>\n",
              "      <td>Hong  Kong  Exchanges  and  Clearing  Limited ...</td>\n",
              "      <td>Trading Halt</td>\n",
              "      <td>0</td>\n",
              "      <td>0</td>\n",
              "      <td>0</td>\n",
              "      <td>0</td>\n",
              "      <td>1</td>\n",
              "      <td>0</td>\n",
              "    </tr>\n",
              "    <tr>\n",
              "      <th>6696</th>\n",
              "      <td>https://www1.hkexnews.hk/listedco/listconews/s...</td>\n",
              "      <td>Hong Kong Exchanges and Clearing Limited and T...</td>\n",
              "      <td>Notice of AGM</td>\n",
              "      <td>0</td>\n",
              "      <td>0</td>\n",
              "      <td>0</td>\n",
              "      <td>1</td>\n",
              "      <td>0</td>\n",
              "      <td>0</td>\n",
              "    </tr>\n",
              "  </tbody>\n",
              "</table>\n",
              "</div>"
            ],
            "text/plain": [
              "                                                    URL  ... Annual Results\n",
              "2301  https://www1.hkexnews.hk/listedco/listconews/s...  ...              0\n",
              "1507  https://www1.hkexnews.hk/listedco/listconews/s...  ...              0\n",
              "499   https://www1.hkexnews.hk/listedco/listconews/s...  ...              0\n",
              "532   https://www1.hkexnews.hk/listedco/listconews/s...  ...              0\n",
              "6696  https://www1.hkexnews.hk/listedco/listconews/s...  ...              0\n",
              "\n",
              "[5 rows x 9 columns]"
            ]
          },
          "metadata": {
            "tags": []
          },
          "execution_count": 6
        }
      ]
    },
    {
      "cell_type": "code",
      "metadata": {
        "id": "Jx9omPg7Bj7R",
        "colab_type": "code",
        "colab": {
          "base_uri": "https://localhost:8080/",
          "height": 221
        },
        "outputId": "34130311-a640-4145-f586-1d8f3d8c3d1a"
      },
      "source": [
        "# Extract matrix of labels\n",
        "labels = df[['Notifiable Transaction', 'Takeover Offer', 'Connected Transaction', 'Notice of AGM', 'Trading Halt', 'Annual Results']]\n",
        "labels.head()"
      ],
      "execution_count": 7,
      "outputs": [
        {
          "output_type": "execute_result",
          "data": {
            "text/html": [
              "<div>\n",
              "<style scoped>\n",
              "    .dataframe tbody tr th:only-of-type {\n",
              "        vertical-align: middle;\n",
              "    }\n",
              "\n",
              "    .dataframe tbody tr th {\n",
              "        vertical-align: top;\n",
              "    }\n",
              "\n",
              "    .dataframe thead th {\n",
              "        text-align: right;\n",
              "    }\n",
              "</style>\n",
              "<table border=\"1\" class=\"dataframe\">\n",
              "  <thead>\n",
              "    <tr style=\"text-align: right;\">\n",
              "      <th></th>\n",
              "      <th>Notifiable Transaction</th>\n",
              "      <th>Takeover Offer</th>\n",
              "      <th>Connected Transaction</th>\n",
              "      <th>Notice of AGM</th>\n",
              "      <th>Trading Halt</th>\n",
              "      <th>Annual Results</th>\n",
              "    </tr>\n",
              "  </thead>\n",
              "  <tbody>\n",
              "    <tr>\n",
              "      <th>2301</th>\n",
              "      <td>1</td>\n",
              "      <td>0</td>\n",
              "      <td>0</td>\n",
              "      <td>0</td>\n",
              "      <td>0</td>\n",
              "      <td>0</td>\n",
              "    </tr>\n",
              "    <tr>\n",
              "      <th>1507</th>\n",
              "      <td>1</td>\n",
              "      <td>0</td>\n",
              "      <td>0</td>\n",
              "      <td>0</td>\n",
              "      <td>0</td>\n",
              "      <td>0</td>\n",
              "    </tr>\n",
              "    <tr>\n",
              "      <th>499</th>\n",
              "      <td>0</td>\n",
              "      <td>0</td>\n",
              "      <td>0</td>\n",
              "      <td>0</td>\n",
              "      <td>1</td>\n",
              "      <td>0</td>\n",
              "    </tr>\n",
              "    <tr>\n",
              "      <th>532</th>\n",
              "      <td>0</td>\n",
              "      <td>0</td>\n",
              "      <td>0</td>\n",
              "      <td>0</td>\n",
              "      <td>1</td>\n",
              "      <td>0</td>\n",
              "    </tr>\n",
              "    <tr>\n",
              "      <th>6696</th>\n",
              "      <td>0</td>\n",
              "      <td>0</td>\n",
              "      <td>0</td>\n",
              "      <td>1</td>\n",
              "      <td>0</td>\n",
              "      <td>0</td>\n",
              "    </tr>\n",
              "  </tbody>\n",
              "</table>\n",
              "</div>"
            ],
            "text/plain": [
              "      Notifiable Transaction  Takeover Offer  ...  Trading Halt  Annual Results\n",
              "2301                       1               0  ...             0               0\n",
              "1507                       1               0  ...             0               0\n",
              "499                        0               0  ...             1               0\n",
              "532                        0               0  ...             1               0\n",
              "6696                       0               0  ...             0               0\n",
              "\n",
              "[5 rows x 6 columns]"
            ]
          },
          "metadata": {
            "tags": []
          },
          "execution_count": 7
        }
      ]
    },
    {
      "cell_type": "markdown",
      "metadata": {
        "id": "QLENC2zPXeTH",
        "colab_type": "text"
      },
      "source": [
        "## Text Preprocessing\n",
        "\n",
        "Text preprocessing is an important step of any NLP application. My preliminary testing on the model with fewer labels and fewer training examples indicated that removing stop words leads to a drastically decreased accuracy on the classifier. This may be because a bidirectional LSTM would be more able to capture the semantic meanings of the corpus with the stop words intact. "
      ]
    },
    {
      "cell_type": "code",
      "metadata": {
        "id": "B63v_rp-hGNY",
        "colab_type": "code",
        "colab": {}
      },
      "source": [
        "# Text Preprocessing, removing stop words vastly decreased training accuracy\n",
        "def preprocess(corpus):\n",
        "    corpus = corpus.lower()\n",
        "    cleaner = re.compile(r'[^a-z 0-9]')\n",
        "    corpus = re.sub('\\n', ' ', corpus)\n",
        "    corpus = re.sub(cleaner, ' ', corpus)\n",
        "    corpus = re.sub(r'\\s+', ' ', corpus)\n",
        "  #  corpus = ' '.join([word for word in corpus.split() if word not in stopwords.words('english')])\n",
        "    return corpus"
      ],
      "execution_count": 8,
      "outputs": []
    },
    {
      "cell_type": "code",
      "metadata": {
        "id": "ZgPSS8g3CzNj",
        "colab_type": "code",
        "colab": {}
      },
      "source": [
        "# Extract X Y values\n",
        "corpus_list = list(df.Text)\n",
        "X = [preprocess(corpus) for corpus in corpus_list]\n",
        "\n",
        "Y = labels.values"
      ],
      "execution_count": 9,
      "outputs": []
    },
    {
      "cell_type": "code",
      "metadata": {
        "id": "tXIHQLU6ATOL",
        "colab_type": "code",
        "colab": {}
      },
      "source": [
        "# Create train-test split\n",
        "X_train, X_test, Y_train, Y_test = train_test_split(X, Y, test_size=0.2)"
      ],
      "execution_count": 10,
      "outputs": []
    },
    {
      "cell_type": "markdown",
      "metadata": {
        "id": "wDdlG3icLBBO",
        "colab_type": "text"
      },
      "source": [
        "# Tokenization and Padding\n",
        "\n",
        "Each text corpus in the training examples X_train are converted into an array of tokens, where each token will be word-vectors representating the token. \n",
        "\n",
        "Each of the inputs will be normalized in terms of length, with a max length on each input chosen to be 1500. This number came about after extensive testing, in addition to some intuitive feature engineering, such as knowing that the most important content of any announcement is located towards the beginning of the announcement. \n",
        "\n",
        "For announcements with less than 1500 words, null vectors will be used to pad the announcement until the 1500 word count is reached.\n"
      ]
    },
    {
      "cell_type": "code",
      "metadata": {
        "id": "qcru1ir9FAC1",
        "colab_type": "code",
        "colab": {
          "base_uri": "https://localhost:8080/",
          "height": 34
        },
        "outputId": "51c47e60-e01e-43b0-9efd-a8e4e7d4a6b0"
      },
      "source": [
        "# Process X data into tokenized and padded input\n",
        "tokenizer = Tokenizer(num_words=5000)\n",
        "tokenizer.fit_on_texts(X_train)\n",
        "\n",
        "X_train = tokenizer.texts_to_sequences(X_train)\n",
        "X_test = tokenizer.texts_to_sequences(X_test)\n",
        "\n",
        "vocab_size = len(tokenizer.word_index) + 1\n",
        "max_len = 2000\n",
        "X_train = pad_sequences(X_train, padding = 'post', maxlen = max_len)\n",
        "X_test = pad_sequences(X_test, padding = 'post', maxlen = max_len)\n",
        "\n",
        "print(f'vocab_size = {vocab_size}')"
      ],
      "execution_count": 11,
      "outputs": [
        {
          "output_type": "stream",
          "text": [
            "vocab_size = 75316\n"
          ],
          "name": "stdout"
        }
      ]
    },
    {
      "cell_type": "markdown",
      "metadata": {
        "id": "qDnmuhOtL69S",
        "colab_type": "text"
      },
      "source": [
        "# Pre-trained Embeddings\n",
        "\n",
        "Through experimentation with pre-trained embeddings or a fresh embedding layer to learn on its own, the use of pre-trained embeddings greatly increased accuracy. \n",
        "\n",
        "The pre-trained embeddings used here are GloVe embeddings from Stanford, which can be downloaded here: https://nlp.stanford.edu/projects/glove/"
      ]
    },
    {
      "cell_type": "code",
      "metadata": {
        "id": "alQ4pPoXg6bZ",
        "colab_type": "code",
        "colab": {}
      },
      "source": [
        "# Load glove embeddings, create embedding matrix\n",
        "glove_path = r'/content/drive/My Drive/Data/glove.6B.300d.txt'\n",
        "\n",
        "embeddings_dictionary = dict()\n",
        "\n",
        "with open(glove_path) as glove:\n",
        "    for line in glove:\n",
        "        records = line.split()\n",
        "        word = records[0]\n",
        "        vector_dims = np.asarray(records[1:], dtype='float32')\n",
        "        embeddings_dictionary[word] = vector_dims\n",
        "embedding_matrix = np.zeros((vocab_size, 300))\n",
        "for word, index in tokenizer.word_index.items():\n",
        "    embedding_vector = embeddings_dictionary.get(word)\n",
        "    if embedding_vector is not None:\n",
        "        embedding_matrix[index] = embedding_vector"
      ],
      "execution_count": 12,
      "outputs": []
    },
    {
      "cell_type": "code",
      "metadata": {
        "id": "hZkLae5mAzdD",
        "colab_type": "code",
        "colab": {}
      },
      "source": [
        "def RNN():\n",
        "    inputs = Input(shape = (max_len,))\n",
        "    layer = Embedding(vocab_size, 300, weights=[embedding_matrix], trainable=False)(inputs)\n",
        "#    layer = Embedding(vocab_size, 100, input_length=max_len)(inputs)\n",
        "    layer = Bidirectional(LSTM(128))(layer)\n",
        "    layer = Dropout(0.8)(layer)\n",
        "    layer = Dense(256)(layer)\n",
        "    layer = Activation('relu')(layer)\n",
        "    layer = Dropout(0.8)(layer)\n",
        "    layer = Dense(6)(layer)\n",
        "    layer = Activation('sigmoid')(layer)\n",
        "    model = Model(inputs=inputs, outputs=layer)\n",
        "    return model"
      ],
      "execution_count": 13,
      "outputs": []
    },
    {
      "cell_type": "code",
      "metadata": {
        "id": "KWTbY8KNA2Kd",
        "colab_type": "code",
        "colab": {
          "base_uri": "https://localhost:8080/",
          "height": 1000
        },
        "outputId": "089a2e94-09ab-4a92-b448-c9f810a7a36f"
      },
      "source": [
        "model = RNN()\n",
        "model.summary()\n",
        "model.compile(loss='binary_crossentropy', optimizer='adam', metrics=['accuracy'])\n",
        "\n",
        "plot_model(model, to_file='model.png', show_shapes=True, show_layer_names=False)"
      ],
      "execution_count": 14,
      "outputs": [
        {
          "output_type": "stream",
          "text": [
            "Model: \"functional_1\"\n",
            "_________________________________________________________________\n",
            "Layer (type)                 Output Shape              Param #   \n",
            "=================================================================\n",
            "input_1 (InputLayer)         [(None, 2000)]            0         \n",
            "_________________________________________________________________\n",
            "embedding (Embedding)        (None, 2000, 300)         22594800  \n",
            "_________________________________________________________________\n",
            "bidirectional (Bidirectional (None, 256)               439296    \n",
            "_________________________________________________________________\n",
            "dropout (Dropout)            (None, 256)               0         \n",
            "_________________________________________________________________\n",
            "dense (Dense)                (None, 256)               65792     \n",
            "_________________________________________________________________\n",
            "activation (Activation)      (None, 256)               0         \n",
            "_________________________________________________________________\n",
            "dropout_1 (Dropout)          (None, 256)               0         \n",
            "_________________________________________________________________\n",
            "dense_1 (Dense)              (None, 6)                 1542      \n",
            "_________________________________________________________________\n",
            "activation_1 (Activation)    (None, 6)                 0         \n",
            "=================================================================\n",
            "Total params: 23,101,430\n",
            "Trainable params: 506,630\n",
            "Non-trainable params: 22,594,800\n",
            "_________________________________________________________________\n"
          ],
          "name": "stdout"
        },
        {
          "output_type": "execute_result",
          "data": {
            "image/png": "[encoded data removed]",
            "text/plain": [
              "<IPython.core.display.Image object>"
            ]
          },
          "metadata": {
            "tags": []
          },
          "execution_count": 14
        }
      ]
    },
    {
      "cell_type": "code",
      "metadata": {
        "id": "3w0oWiXDCy9Z",
        "colab_type": "code",
        "colab": {}
      },
      "source": [
        "ES = EarlyStopping(monitor='val_loss', verbose=1, patience=10, restore_best_weights=True)"
      ],
      "execution_count": 15,
      "outputs": []
    },
    {
      "cell_type": "code",
      "metadata": {
        "id": "92X6CfQTDzan",
        "colab_type": "code",
        "colab": {
          "base_uri": "https://localhost:8080/",
          "height": 1000
        },
        "outputId": "7b1921b0-1a47-4ed7-d4bb-2d2ae814ab5b"
      },
      "source": [
        "history = model.fit(X_train, Y_train,\n",
        "                    epochs=40,\n",
        "                    validation_data=(X_test, Y_test),\n",
        "                    batch_size=32,\n",
        "                    callbacks=[ES])"
      ],
      "execution_count": 16,
      "outputs": [
        {
          "output_type": "stream",
          "text": [
            "Epoch 1/40\n",
            "299/299 [==============================] - 84s 282ms/step - loss: 0.4014 - accuracy: 0.4245 - val_loss: 0.3293 - val_accuracy: 0.5463\n",
            "Epoch 2/40\n",
            "299/299 [==============================] - 83s 279ms/step - loss: 0.3355 - accuracy: 0.5181 - val_loss: 0.3066 - val_accuracy: 0.5555\n",
            "Epoch 3/40\n",
            "299/299 [==============================] - 83s 278ms/step - loss: 0.3268 - accuracy: 0.5422 - val_loss: 0.3133 - val_accuracy: 0.5513\n",
            "Epoch 4/40\n",
            "299/299 [==============================] - 83s 279ms/step - loss: 0.3191 - accuracy: 0.5463 - val_loss: 0.3012 - val_accuracy: 0.5643\n",
            "Epoch 5/40\n",
            "299/299 [==============================] - 83s 279ms/step - loss: 0.3084 - accuracy: 0.5566 - val_loss: 0.2933 - val_accuracy: 0.5718\n",
            "Epoch 6/40\n",
            "299/299 [==============================] - 83s 278ms/step - loss: 0.2993 - accuracy: 0.5668 - val_loss: 0.2949 - val_accuracy: 0.5706\n",
            "Epoch 7/40\n",
            "299/299 [==============================] - 83s 279ms/step - loss: 0.2964 - accuracy: 0.5763 - val_loss: 0.2682 - val_accuracy: 0.6481\n",
            "Epoch 8/40\n",
            "299/299 [==============================] - 83s 279ms/step - loss: 0.2652 - accuracy: 0.6388 - val_loss: 0.2022 - val_accuracy: 0.7373\n",
            "Epoch 9/40\n",
            "299/299 [==============================] - 83s 279ms/step - loss: 0.2121 - accuracy: 0.7193 - val_loss: 0.2004 - val_accuracy: 0.7822\n",
            "Epoch 10/40\n",
            "299/299 [==============================] - 83s 279ms/step - loss: 0.1791 - accuracy: 0.7699 - val_loss: 0.1538 - val_accuracy: 0.8035\n",
            "Epoch 11/40\n",
            "299/299 [==============================] - 83s 279ms/step - loss: 0.1584 - accuracy: 0.7967 - val_loss: 0.1469 - val_accuracy: 0.8069\n",
            "Epoch 12/40\n",
            "299/299 [==============================] - 83s 279ms/step - loss: 0.1607 - accuracy: 0.7904 - val_loss: 0.1440 - val_accuracy: 0.8090\n",
            "Epoch 13/40\n",
            "299/299 [==============================] - 83s 278ms/step - loss: 0.1475 - accuracy: 0.8084 - val_loss: 0.1473 - val_accuracy: 0.8085\n",
            "Epoch 14/40\n",
            "299/299 [==============================] - 83s 278ms/step - loss: 0.1418 - accuracy: 0.8115 - val_loss: 0.1399 - val_accuracy: 0.8140\n",
            "Epoch 15/40\n",
            "299/299 [==============================] - 83s 278ms/step - loss: 0.1410 - accuracy: 0.8109 - val_loss: 0.1427 - val_accuracy: 0.8144\n",
            "Epoch 16/40\n",
            "299/299 [==============================] - 83s 278ms/step - loss: 0.1357 - accuracy: 0.8119 - val_loss: 0.1416 - val_accuracy: 0.8119\n",
            "Epoch 17/40\n",
            "299/299 [==============================] - 83s 278ms/step - loss: 0.1382 - accuracy: 0.8093 - val_loss: 0.1379 - val_accuracy: 0.8115\n",
            "Epoch 18/40\n",
            "299/299 [==============================] - 83s 279ms/step - loss: 0.1336 - accuracy: 0.8122 - val_loss: 0.1367 - val_accuracy: 0.8152\n",
            "Epoch 19/40\n",
            "299/299 [==============================] - 83s 278ms/step - loss: 0.1295 - accuracy: 0.8155 - val_loss: 0.1419 - val_accuracy: 0.8148\n",
            "Epoch 20/40\n",
            "299/299 [==============================] - 83s 279ms/step - loss: 0.1286 - accuracy: 0.8151 - val_loss: 0.1337 - val_accuracy: 0.8140\n",
            "Epoch 21/40\n",
            "299/299 [==============================] - 83s 278ms/step - loss: 0.1204 - accuracy: 0.8302 - val_loss: 0.1435 - val_accuracy: 0.8500\n",
            "Epoch 22/40\n",
            "299/299 [==============================] - 83s 279ms/step - loss: 0.1135 - accuracy: 0.8532 - val_loss: 0.1202 - val_accuracy: 0.8831\n",
            "Epoch 23/40\n",
            "299/299 [==============================] - 83s 278ms/step - loss: 0.1074 - accuracy: 0.8701 - val_loss: 0.1045 - val_accuracy: 0.8886\n",
            "Epoch 24/40\n",
            "299/299 [==============================] - 83s 279ms/step - loss: 0.0961 - accuracy: 0.8803 - val_loss: 0.1028 - val_accuracy: 0.8844\n",
            "Epoch 25/40\n",
            "299/299 [==============================] - 83s 278ms/step - loss: 0.0879 - accuracy: 0.8887 - val_loss: 0.1140 - val_accuracy: 0.8848\n",
            "Epoch 26/40\n",
            "299/299 [==============================] - 83s 278ms/step - loss: 0.0849 - accuracy: 0.8918 - val_loss: 0.1173 - val_accuracy: 0.8831\n",
            "Epoch 27/40\n",
            "299/299 [==============================] - 83s 278ms/step - loss: 0.0811 - accuracy: 0.8953 - val_loss: 0.0982 - val_accuracy: 0.8936\n",
            "Epoch 28/40\n",
            "299/299 [==============================] - 83s 278ms/step - loss: 0.0732 - accuracy: 0.8999 - val_loss: 0.0900 - val_accuracy: 0.9020\n",
            "Epoch 29/40\n",
            "299/299 [==============================] - 83s 278ms/step - loss: 0.0856 - accuracy: 0.8886 - val_loss: 0.0847 - val_accuracy: 0.8957\n",
            "Epoch 30/40\n",
            "299/299 [==============================] - 83s 278ms/step - loss: 0.0686 - accuracy: 0.9050 - val_loss: 0.0900 - val_accuracy: 0.9200\n",
            "Epoch 31/40\n",
            "299/299 [==============================] - 83s 279ms/step - loss: 0.0628 - accuracy: 0.9147 - val_loss: 0.0779 - val_accuracy: 0.9296\n",
            "Epoch 32/40\n",
            "299/299 [==============================] - 83s 278ms/step - loss: 0.0613 - accuracy: 0.9175 - val_loss: 0.0840 - val_accuracy: 0.9225\n",
            "Epoch 33/40\n",
            "299/299 [==============================] - 83s 279ms/step - loss: 0.0627 - accuracy: 0.9164 - val_loss: 0.0754 - val_accuracy: 0.9284\n",
            "Epoch 34/40\n",
            "299/299 [==============================] - 83s 279ms/step - loss: 0.0529 - accuracy: 0.9308 - val_loss: 0.0674 - val_accuracy: 0.9330\n",
            "Epoch 35/40\n",
            "299/299 [==============================] - 83s 278ms/step - loss: 0.0506 - accuracy: 0.9335 - val_loss: 0.0763 - val_accuracy: 0.9397\n",
            "Epoch 36/40\n",
            "299/299 [==============================] - 83s 278ms/step - loss: 0.0524 - accuracy: 0.9344 - val_loss: 0.0835 - val_accuracy: 0.9338\n",
            "Epoch 37/40\n",
            "299/299 [==============================] - 83s 278ms/step - loss: 0.0464 - accuracy: 0.9437 - val_loss: 0.0833 - val_accuracy: 0.9342\n",
            "Epoch 38/40\n",
            "299/299 [==============================] - 83s 278ms/step - loss: 0.0432 - accuracy: 0.9501 - val_loss: 0.0749 - val_accuracy: 0.9434\n",
            "Epoch 39/40\n",
            "299/299 [==============================] - 83s 278ms/step - loss: 0.0469 - accuracy: 0.9468 - val_loss: 0.0828 - val_accuracy: 0.9338\n",
            "Epoch 40/40\n",
            "299/299 [==============================] - 83s 278ms/step - loss: 0.0436 - accuracy: 0.9502 - val_loss: 0.0821 - val_accuracy: 0.9355\n"
          ],
          "name": "stdout"
        }
      ]
    },
    {
      "cell_type": "code",
      "metadata": {
        "id": "pVPiSNR8H-_q",
        "colab_type": "code",
        "colab": {
          "base_uri": "https://localhost:8080/",
          "height": 85
        },
        "outputId": "8def9302-40a4-4984-ccc7-96964b7bb50d"
      },
      "source": [
        "acc = model.evaluate(X_test, Y_test)\n",
        "print(f'Validation set results \\nLoss: {acc[0]:.4f} \\nAccuracy: {acc[1]:.4f}')"
      ],
      "execution_count": 17,
      "outputs": [
        {
          "output_type": "stream",
          "text": [
            "75/75 [==============================] - 8s 109ms/step - loss: 0.0821 - accuracy: 0.9355\n",
            "Validation set results \n",
            "Loss: 0.0821 \n",
            "Accuracy: 0.9355\n"
          ],
          "name": "stdout"
        }
      ]
    },
    {
      "cell_type": "code",
      "metadata": {
        "id": "Wx5i4oYRD-xd",
        "colab_type": "code",
        "colab": {
          "base_uri": "https://localhost:8080/",
          "height": 417
        },
        "outputId": "19953597-850d-44df-f1dc-98149783bb83"
      },
      "source": [
        "# Plot losses and accuracy with plotly\n",
        "h = history.history\n",
        "epochs = [i+1 for i in range(len(h['loss']))]\n",
        "cols = plotly.colors.DEFAULT_PLOTLY_COLORS\n",
        "\n",
        "fig = make_subplots(rows=1, cols=2, subplot_titles=('Training and Validation Accuracy', 'Training and Validation Loss'))\n",
        "\n",
        "fig.add_trace(go.Scatter(x=epochs, y=h['accuracy'], \n",
        "                         line=dict(width=1.5, color=cols[0]),\n",
        "                         name='Training Accuracy'), 1,1)\n",
        "fig.add_trace(go.Scatter(x=epochs, y=h['val_accuracy'], \n",
        "                         line=dict(width=1.5, color=cols[3]),\n",
        "                         name='Validation Accuracy'), 1,1)\n",
        "\n",
        "fig.add_trace(go.Scatter(x=epochs, y=h['loss'], \n",
        "                         line=dict(width=1.5, color=cols[0]),\n",
        "                         name='Training Loss'), 1,2)\n",
        "fig.add_trace(go.Scatter(x=epochs, y=h['val_loss'], \n",
        "                         line=dict(width=1.5, color=cols[3]),\n",
        "                         name='Validation Loss'), 1,2)\n",
        "\n",
        "fig.update_layout(height = 400, width=1000)\n",
        "fig.update_xaxes(title_text='Epochs')\n",
        "fig.update_yaxes(title_text='Accuracy', row=1,col=1)\n",
        "fig.update_yaxes(title_text='Loss', row=1,col=2)\n",
        "\n",
        "fig.show()"
      ],
      "execution_count": 19,
      "outputs": [
        {
          "output_type": "display_data",
          "data": {
            "text/html": [
              "<html>\n",
              "<head><meta charset=\"utf-8\" /></head>\n",
              "<body>\n",
              "    <div>\n",
              "            <script src=\"https://cdnjs.cloudflare.com/ajax/libs/mathjax/2.7.5/MathJax.js?config=TeX-AMS-MML_SVG\"></script><script type=\"text/javascript\">if (window.MathJax) {MathJax.Hub.Config({SVG: {font: \"STIX-Web\"}});}</script>\n",
              "                <script type=\"text/javascript\">window.PlotlyConfig = {MathJaxConfig: 'local'};</script>\n",
              "        <script src=\"https://cdn.plot.ly/plotly-latest.min.js\"></script>    \n",
              "            <div id=\"dbf45660-9386-4fc5-b9ee-66ddf148b30f\" class=\"plotly-graph-div\" style=\"height:400px; width:1000px;\"></div>\n",
              "            <script type=\"text/javascript\">\n",
              "                \n",
              "                    window.PLOTLYENV=window.PLOTLYENV || {};\n",
              "                    \n",
              "                if (document.getElementById(\"dbf45660-9386-4fc5-b9ee-66ddf148b30f\")) {\n",
              "                    Plotly.newPlot(\n",
              "                        'dbf45660-9386-4fc5-b9ee-66ddf148b30f',\n",
              "                        [{\"line\": {\"color\": \"rgb(31, 119, 180)\", \"width\": 1.5}, \"name\": \"Training Accuracy\", \"type\": \"scatter\", \"x\": [1, 2, 3, 4, 5, 6, 7, 8, 9, 10, 11, 12, 13, 14, 15, 16, 17, 18, 19, 20, 21, 22, 23, 24, 25, 26, 27, 28, 29, 30, 31, 32, 33, 34, 35, 36, 37, 38, 39, 40], \"xaxis\": \"x\", \"y\": [0.424470990896225, 0.5181227922439575, 0.5422166585922241, 0.5463021397590637, 0.5565682053565979, 0.5668342709541321, 0.5762622952461243, 0.6388015747070312, 0.7192541360855103, 0.7698512673377991, 0.7966687679290771, 0.7903833985328674, 0.8084014058113098, 0.8115441203117371, 0.8109155893325806, 0.8118583559989929, 0.8093442320823669, 0.8121726512908936, 0.8155248165130615, 0.8151057958602905, 0.8301906585693359, 0.853236973285675, 0.8701026439666748, 0.8802639842033386, 0.8887492418289185, 0.8917871117591858, 0.895348846912384, 0.8998533487319946, 0.8886444568634033, 0.9049863815307617, 0.9147287011146545, 0.917452335357666, 0.9164047837257385, 0.9307563304901123, 0.9334799647331238, 0.9344227910041809, 0.9437460899353027, 0.9501361846923828, 0.9467840194702148, 0.9502409100532532], \"yaxis\": \"y\"}, {\"line\": {\"color\": \"rgb(214, 39, 40)\", \"width\": 1.5}, \"name\": \"Validation Accuracy\", \"type\": \"scatter\", \"x\": [1, 2, 3, 4, 5, 6, 7, 8, 9, 10, 11, 12, 13, 14, 15, 16, 17, 18, 19, 20, 21, 22, 23, 24, 25, 26, 27, 28, 29, 30, 31, 32, 33, 34, 35, 36, 37, 38, 39, 40], \"xaxis\": \"x\", \"y\": [0.5462924242019653, 0.5555090308189392, 0.5513196587562561, 0.5643066763877869, 0.5718474984169006, 0.5705906748771667, 0.6480938196182251, 0.7373272180557251, 0.782153308391571, 0.803519070148468, 0.8068705201148987, 0.8089652061462402, 0.8085463047027588, 0.813992440700531, 0.8144114017486572, 0.8118977546691895, 0.811478853225708, 0.8152492642402649, 0.8148303031921387, 0.813992440700531, 0.8500209450721741, 0.8831169009208679, 0.8885630369186401, 0.884373664855957, 0.8847926259040833, 0.8831169009208679, 0.8935902714729309, 0.9019690155982971, 0.8956849575042725, 0.9199832677841187, 0.929618775844574, 0.9224968552589417, 0.9283619523048401, 0.9329702258110046, 0.9396732449531555, 0.9338081479072571, 0.9342270493507385, 0.9434436559677124, 0.9338081479072571, 0.9354838728904724], \"yaxis\": \"y\"}, {\"line\": {\"color\": \"rgb(31, 119, 180)\", \"width\": 1.5}, \"name\": \"Training Loss\", \"type\": \"scatter\", \"x\": [1, 2, 3, 4, 5, 6, 7, 8, 9, 10, 11, 12, 13, 14, 15, 16, 17, 18, 19, 20, 21, 22, 23, 24, 25, 26, 27, 28, 29, 30, 31, 32, 33, 34, 35, 36, 37, 38, 39, 40], \"xaxis\": \"x2\", \"y\": [0.40141111612319946, 0.3354857563972473, 0.32678109407424927, 0.31911134719848633, 0.3084232211112976, 0.29934877157211304, 0.2963871955871582, 0.2651805281639099, 0.21210691332817078, 0.1790923774242401, 0.1583831012248993, 0.16074278950691223, 0.1474914252758026, 0.14178496599197388, 0.1410030871629715, 0.1357031762599945, 0.13819919526576996, 0.13359352946281433, 0.12952277064323425, 0.1286442130804062, 0.1204448789358139, 0.1134864017367363, 0.10740241408348083, 0.09606313705444336, 0.08786977827548981, 0.0848858579993248, 0.08113258332014084, 0.07319474220275879, 0.08563331514596939, 0.06859325617551804, 0.06279556453227997, 0.061324067413806915, 0.0626596063375473, 0.05292971804738045, 0.05056554451584816, 0.05240324139595032, 0.04635758697986603, 0.043161094188690186, 0.04689637944102287, 0.04360436648130417], \"yaxis\": \"y2\"}, {\"line\": {\"color\": \"rgb(214, 39, 40)\", \"width\": 1.5}, \"name\": \"Validation Loss\", \"type\": \"scatter\", \"x\": [1, 2, 3, 4, 5, 6, 7, 8, 9, 10, 11, 12, 13, 14, 15, 16, 17, 18, 19, 20, 21, 22, 23, 24, 25, 26, 27, 28, 29, 30, 31, 32, 33, 34, 35, 36, 37, 38, 39, 40], \"xaxis\": \"x2\", \"y\": [0.32926151156425476, 0.3065519630908966, 0.31329968571662903, 0.3011516332626343, 0.2933436632156372, 0.29489603638648987, 0.26816728711128235, 0.20224629342556, 0.20038937032222748, 0.15381430089473724, 0.14686338603496552, 0.14401660859584808, 0.14726869761943817, 0.13991259038448334, 0.14270980656147003, 0.14163507521152496, 0.13793571293354034, 0.13665755093097687, 0.141875758767128, 0.13370412588119507, 0.1435054987668991, 0.12024746835231781, 0.10449022799730301, 0.10280609875917435, 0.11399127542972565, 0.11732383817434311, 0.09824218600988388, 0.09000343084335327, 0.08470062911510468, 0.09003038704395294, 0.077904611825943, 0.08403687924146652, 0.07540595531463623, 0.06735055893659592, 0.07629644125699997, 0.08352215588092804, 0.08334866166114807, 0.07488753646612167, 0.08281005918979645, 0.08206982910633087], \"yaxis\": \"y2\"}],\n",
              "                        {\"annotations\": [{\"font\": {\"size\": 16}, \"showarrow\": false, \"text\": \"Training and Validation Accuracy\", \"x\": 0.225, \"xanchor\": \"center\", \"xref\": \"paper\", \"y\": 1.0, \"yanchor\": \"bottom\", \"yref\": \"paper\"}, {\"font\": {\"size\": 16}, \"showarrow\": false, \"text\": \"Training and Validation Loss\", \"x\": 0.775, \"xanchor\": \"center\", \"xref\": \"paper\", \"y\": 1.0, \"yanchor\": \"bottom\", \"yref\": \"paper\"}], \"height\": 400, \"template\": {\"data\": {\"bar\": [{\"error_x\": {\"color\": \"#2a3f5f\"}, \"error_y\": {\"color\": \"#2a3f5f\"}, \"marker\": {\"line\": {\"color\": \"#E5ECF6\", \"width\": 0.5}}, \"type\": \"bar\"}], \"barpolar\": [{\"marker\": {\"line\": {\"color\": \"#E5ECF6\", \"width\": 0.5}}, \"type\": \"barpolar\"}], \"carpet\": [{\"aaxis\": {\"endlinecolor\": \"#2a3f5f\", \"gridcolor\": \"white\", \"linecolor\": \"white\", \"minorgridcolor\": \"white\", \"startlinecolor\": \"#2a3f5f\"}, \"baxis\": {\"endlinecolor\": \"#2a3f5f\", \"gridcolor\": \"white\", \"linecolor\": \"white\", \"minorgridcolor\": \"white\", \"startlinecolor\": \"#2a3f5f\"}, \"type\": \"carpet\"}], \"choropleth\": [{\"colorbar\": {\"outlinewidth\": 0, \"ticks\": \"\"}, \"type\": \"choropleth\"}], \"contour\": [{\"colorbar\": {\"outlinewidth\": 0, \"ticks\": \"\"}, \"colorscale\": [[0.0, \"#0d0887\"], [0.1111111111111111, \"#46039f\"], [0.2222222222222222, \"#7201a8\"], [0.3333333333333333, \"#9c179e\"], [0.4444444444444444, \"#bd3786\"], [0.5555555555555556, \"#d8576b\"], [0.6666666666666666, \"#ed7953\"], [0.7777777777777778, \"#fb9f3a\"], [0.8888888888888888, \"#fdca26\"], [1.0, \"#f0f921\"]], \"type\": \"contour\"}], \"contourcarpet\": [{\"colorbar\": {\"outlinewidth\": 0, \"ticks\": \"\"}, \"type\": \"contourcarpet\"}], \"heatmap\": [{\"colorbar\": {\"outlinewidth\": 0, \"ticks\": \"\"}, \"colorscale\": [[0.0, \"#0d0887\"], [0.1111111111111111, \"#46039f\"], [0.2222222222222222, \"#7201a8\"], [0.3333333333333333, \"#9c179e\"], [0.4444444444444444, \"#bd3786\"], [0.5555555555555556, \"#d8576b\"], [0.6666666666666666, \"#ed7953\"], [0.7777777777777778, \"#fb9f3a\"], [0.8888888888888888, \"#fdca26\"], [1.0, \"#f0f921\"]], \"type\": \"heatmap\"}], \"heatmapgl\": [{\"colorbar\": {\"outlinewidth\": 0, \"ticks\": \"\"}, \"colorscale\": [[0.0, \"#0d0887\"], [0.1111111111111111, \"#46039f\"], [0.2222222222222222, \"#7201a8\"], [0.3333333333333333, \"#9c179e\"], [0.4444444444444444, \"#bd3786\"], [0.5555555555555556, \"#d8576b\"], [0.6666666666666666, \"#ed7953\"], [0.7777777777777778, \"#fb9f3a\"], [0.8888888888888888, \"#fdca26\"], [1.0, \"#f0f921\"]], \"type\": \"heatmapgl\"}], \"histogram\": [{\"marker\": {\"colorbar\": {\"outlinewidth\": 0, \"ticks\": \"\"}}, \"type\": \"histogram\"}], \"histogram2d\": [{\"colorbar\": {\"outlinewidth\": 0, \"ticks\": \"\"}, \"colorscale\": [[0.0, \"#0d0887\"], [0.1111111111111111, \"#46039f\"], [0.2222222222222222, \"#7201a8\"], [0.3333333333333333, \"#9c179e\"], [0.4444444444444444, \"#bd3786\"], [0.5555555555555556, \"#d8576b\"], [0.6666666666666666, \"#ed7953\"], [0.7777777777777778, \"#fb9f3a\"], [0.8888888888888888, \"#fdca26\"], [1.0, \"#f0f921\"]], \"type\": \"histogram2d\"}], \"histogram2dcontour\": [{\"colorbar\": {\"outlinewidth\": 0, \"ticks\": \"\"}, \"colorscale\": [[0.0, \"#0d0887\"], [0.1111111111111111, \"#46039f\"], [0.2222222222222222, \"#7201a8\"], [0.3333333333333333, \"#9c179e\"], [0.4444444444444444, \"#bd3786\"], [0.5555555555555556, \"#d8576b\"], [0.6666666666666666, \"#ed7953\"], [0.7777777777777778, \"#fb9f3a\"], [0.8888888888888888, \"#fdca26\"], [1.0, \"#f0f921\"]], \"type\": \"histogram2dcontour\"}], \"mesh3d\": [{\"colorbar\": {\"outlinewidth\": 0, \"ticks\": \"\"}, \"type\": \"mesh3d\"}], \"parcoords\": [{\"line\": {\"colorbar\": {\"outlinewidth\": 0, \"ticks\": \"\"}}, \"type\": \"parcoords\"}], \"pie\": [{\"automargin\": true, \"type\": \"pie\"}], \"scatter\": [{\"marker\": {\"colorbar\": {\"outlinewidth\": 0, \"ticks\": \"\"}}, \"type\": \"scatter\"}], \"scatter3d\": [{\"line\": {\"colorbar\": {\"outlinewidth\": 0, \"ticks\": \"\"}}, \"marker\": {\"colorbar\": {\"outlinewidth\": 0, \"ticks\": \"\"}}, \"type\": \"scatter3d\"}], \"scattercarpet\": [{\"marker\": {\"colorbar\": {\"outlinewidth\": 0, \"ticks\": \"\"}}, \"type\": \"scattercarpet\"}], \"scattergeo\": [{\"marker\": {\"colorbar\": {\"outlinewidth\": 0, \"ticks\": \"\"}}, \"type\": \"scattergeo\"}], \"scattergl\": [{\"marker\": {\"colorbar\": {\"outlinewidth\": 0, \"ticks\": \"\"}}, \"type\": \"scattergl\"}], \"scattermapbox\": [{\"marker\": {\"colorbar\": {\"outlinewidth\": 0, \"ticks\": \"\"}}, \"type\": \"scattermapbox\"}], \"scatterpolar\": [{\"marker\": {\"colorbar\": {\"outlinewidth\": 0, \"ticks\": \"\"}}, \"type\": \"scatterpolar\"}], \"scatterpolargl\": [{\"marker\": {\"colorbar\": {\"outlinewidth\": 0, \"ticks\": \"\"}}, \"type\": \"scatterpolargl\"}], \"scatterternary\": [{\"marker\": {\"colorbar\": {\"outlinewidth\": 0, \"ticks\": \"\"}}, \"type\": \"scatterternary\"}], \"surface\": [{\"colorbar\": {\"outlinewidth\": 0, \"ticks\": \"\"}, \"colorscale\": [[0.0, \"#0d0887\"], [0.1111111111111111, \"#46039f\"], [0.2222222222222222, \"#7201a8\"], [0.3333333333333333, \"#9c179e\"], [0.4444444444444444, \"#bd3786\"], [0.5555555555555556, \"#d8576b\"], [0.6666666666666666, \"#ed7953\"], [0.7777777777777778, \"#fb9f3a\"], [0.8888888888888888, \"#fdca26\"], [1.0, \"#f0f921\"]], \"type\": \"surface\"}], \"table\": [{\"cells\": {\"fill\": {\"color\": \"#EBF0F8\"}, \"line\": {\"color\": \"white\"}}, \"header\": {\"fill\": {\"color\": \"#C8D4E3\"}, \"line\": {\"color\": \"white\"}}, \"type\": \"table\"}]}, \"layout\": {\"annotationdefaults\": {\"arrowcolor\": \"#2a3f5f\", \"arrowhead\": 0, \"arrowwidth\": 1}, \"coloraxis\": {\"colorbar\": {\"outlinewidth\": 0, \"ticks\": \"\"}}, \"colorscale\": {\"diverging\": [[0, \"#8e0152\"], [0.1, \"#c51b7d\"], [0.2, \"#de77ae\"], [0.3, \"#f1b6da\"], [0.4, \"#fde0ef\"], [0.5, \"#f7f7f7\"], [0.6, \"#e6f5d0\"], [0.7, \"#b8e186\"], [0.8, \"#7fbc41\"], [0.9, \"#4d9221\"], [1, \"#276419\"]], \"sequential\": [[0.0, \"#0d0887\"], [0.1111111111111111, \"#46039f\"], [0.2222222222222222, \"#7201a8\"], [0.3333333333333333, \"#9c179e\"], [0.4444444444444444, \"#bd3786\"], [0.5555555555555556, \"#d8576b\"], [0.6666666666666666, \"#ed7953\"], [0.7777777777777778, \"#fb9f3a\"], [0.8888888888888888, \"#fdca26\"], [1.0, \"#f0f921\"]], \"sequentialminus\": [[0.0, \"#0d0887\"], [0.1111111111111111, \"#46039f\"], [0.2222222222222222, \"#7201a8\"], [0.3333333333333333, \"#9c179e\"], [0.4444444444444444, \"#bd3786\"], [0.5555555555555556, \"#d8576b\"], [0.6666666666666666, \"#ed7953\"], [0.7777777777777778, \"#fb9f3a\"], [0.8888888888888888, \"#fdca26\"], [1.0, \"#f0f921\"]]}, \"colorway\": [\"#636efa\", \"#EF553B\", \"#00cc96\", \"#ab63fa\", \"#FFA15A\", \"#19d3f3\", \"#FF6692\", \"#B6E880\", \"#FF97FF\", \"#FECB52\"], \"font\": {\"color\": \"#2a3f5f\"}, \"geo\": {\"bgcolor\": \"white\", \"lakecolor\": \"white\", \"landcolor\": \"#E5ECF6\", \"showlakes\": true, \"showland\": true, \"subunitcolor\": \"white\"}, \"hoverlabel\": {\"align\": \"left\"}, \"hovermode\": \"closest\", \"mapbox\": {\"style\": \"light\"}, \"paper_bgcolor\": \"white\", \"plot_bgcolor\": \"#E5ECF6\", \"polar\": {\"angularaxis\": {\"gridcolor\": \"white\", \"linecolor\": \"white\", \"ticks\": \"\"}, \"bgcolor\": \"#E5ECF6\", \"radialaxis\": {\"gridcolor\": \"white\", \"linecolor\": \"white\", \"ticks\": \"\"}}, \"scene\": {\"xaxis\": {\"backgroundcolor\": \"#E5ECF6\", \"gridcolor\": \"white\", \"gridwidth\": 2, \"linecolor\": \"white\", \"showbackground\": true, \"ticks\": \"\", \"zerolinecolor\": \"white\"}, \"yaxis\": {\"backgroundcolor\": \"#E5ECF6\", \"gridcolor\": \"white\", \"gridwidth\": 2, \"linecolor\": \"white\", \"showbackground\": true, \"ticks\": \"\", \"zerolinecolor\": \"white\"}, \"zaxis\": {\"backgroundcolor\": \"#E5ECF6\", \"gridcolor\": \"white\", \"gridwidth\": 2, \"linecolor\": \"white\", \"showbackground\": true, \"ticks\": \"\", \"zerolinecolor\": \"white\"}}, \"shapedefaults\": {\"line\": {\"color\": \"#2a3f5f\"}}, \"ternary\": {\"aaxis\": {\"gridcolor\": \"white\", \"linecolor\": \"white\", \"ticks\": \"\"}, \"baxis\": {\"gridcolor\": \"white\", \"linecolor\": \"white\", \"ticks\": \"\"}, \"bgcolor\": \"#E5ECF6\", \"caxis\": {\"gridcolor\": \"white\", \"linecolor\": \"white\", \"ticks\": \"\"}}, \"title\": {\"x\": 0.05}, \"xaxis\": {\"automargin\": true, \"gridcolor\": \"white\", \"linecolor\": \"white\", \"ticks\": \"\", \"title\": {\"standoff\": 15}, \"zerolinecolor\": \"white\", \"zerolinewidth\": 2}, \"yaxis\": {\"automargin\": true, \"gridcolor\": \"white\", \"linecolor\": \"white\", \"ticks\": \"\", \"title\": {\"standoff\": 15}, \"zerolinecolor\": \"white\", \"zerolinewidth\": 2}}}, \"width\": 1000, \"xaxis\": {\"anchor\": \"y\", \"domain\": [0.0, 0.45], \"title\": {\"text\": \"Epochs\"}}, \"xaxis2\": {\"anchor\": \"y2\", \"domain\": [0.55, 1.0], \"title\": {\"text\": \"Epochs\"}}, \"yaxis\": {\"anchor\": \"x\", \"domain\": [0.0, 1.0], \"title\": {\"text\": \"Accuracy\"}}, \"yaxis2\": {\"anchor\": \"x2\", \"domain\": [0.0, 1.0], \"title\": {\"text\": \"Loss\"}}},\n",
              "                        {\"responsive\": true}\n",
              "                    ).then(function(){\n",
              "                            \n",
              "var gd = document.getElementById('dbf45660-9386-4fc5-b9ee-66ddf148b30f');\n",
              "var x = new MutationObserver(function (mutations, observer) {{\n",
              "        var display = window.getComputedStyle(gd).display;\n",
              "        if (!display || display === 'none') {{\n",
              "            console.log([gd, 'removed!']);\n",
              "            Plotly.purge(gd);\n",
              "            observer.disconnect();\n",
              "        }}\n",
              "}});\n",
              "\n",
              "// Listen for the removal of the full notebook cells\n",
              "var notebookContainer = gd.closest('#notebook-container');\n",
              "if (notebookContainer) {{\n",
              "    x.observe(notebookContainer, {childList: true});\n",
              "}}\n",
              "\n",
              "// Listen for the clearing of the current output cell\n",
              "var outputEl = gd.closest('.output');\n",
              "if (outputEl) {{\n",
              "    x.observe(outputEl, {childList: true});\n",
              "}}\n",
              "\n",
              "                        })\n",
              "                };\n",
              "                \n",
              "            </script>\n",
              "        </div>\n",
              "</body>\n",
              "</html>"
            ]
          },
          "metadata": {
            "tags": []
          }
        }
      ]
    },
    {
      "cell_type": "markdown",
      "metadata": {
        "id": "F7VCJ8atuDWG",
        "colab_type": "text"
      },
      "source": [
        "# Fine-tuning of model\n",
        "\n",
        "Important hyper-parameters of this model:\n",
        "- max length of input word vectors\n",
        "- whether or not to use pre-trained word embeddings\n",
        "- whether the pre-trained word embeddings should be trainable\n",
        "- dimensions of pre-trained embeddings or learned embeddings\n",
        "\n",
        "# The tests below initially follow the same architecture:\n",
        "i. Input Layer\n",
        "\n",
        "ii. Embedding Layer \n",
        "\n",
        "iii. Bidirectional LSTM of 128 units with dropout of 0.8\n",
        "\n",
        "iv. Dense layer of 256 units, Relu activation with dropout of 0.8 \n",
        "\n",
        "v: Dense layer of 6 units with sigmoid activation\n",
        "\n",
        "\n",
        "## Test 1: \n",
        "Epochs: **20**, maxlen: **2000**, Embeddings: **not-pre-trained**, dimension: **100** \n",
        "\n",
        "Training Acc: 72.3%\n",
        "\n",
        "Validation Acc: 60%\n",
        "\n",
        "*It seems that the model was not able to even fit well in the training data with a poor validation accuracy, let's try pre-trained embeddings next.*\n",
        "\n",
        "## Test 2: \n",
        "Epochs: **20**, maxlen: **2000**, Embeddings: **pretrained**, dimensions: **100**, trainable: **False**\n",
        "\n",
        "Training Acc: 87.0%\n",
        "\n",
        "Validation Acc: 87.5%\n",
        "\n",
        "*There is no problem of overfitting here as the validation accuracy is actually higher than the training accuracy, which is probably due to the dropout layers not being used at test time. However, there is an avoidable bias problem of 13%. Moreover, towards the end of the training, the losses are still slowly decreasing, which indicates the network might still benefit from more epochs of training - let's try 30, while increasing the dimensions of units of embeddings to 300 in order to address both issues.*\n",
        "\n",
        "## Test 3: \n",
        "Epochs: **30**, maxlen: **2000**, Embeddings: **pretrained**, dimensions: **300**, trainable: **False**\n",
        "\n",
        "**Epoch 20:**\n",
        "\n",
        "Training Acc: 89.4%\n",
        "\n",
        "Validation Acc: 90.0%\n",
        "\n",
        "\n",
        "**Epoch 30:**\n",
        "\n",
        "Training Acc: 93.9%\n",
        "\n",
        "Validation Acc: 94.0%\n",
        "\n",
        "*Increasing the dimensions of the pre-trained embedding layer improved drastically. 94% on the validation set is quite impressive. Towards the end of training, it seems that the network has yet to start to overfit drastically, so perhaps we can try increasing the number of training epochs by another 10. As GloVe embeddings were not trained specifically on a legal corpus, we can try to use trainable embeddings to see if that further improves performance.*\n",
        "\n",
        "## Test 4: \n",
        "Epochs: **40**, maxlen: **2000**, Embeddings: **pretrained**, dimensions: **300**, trainable: **True**\n",
        "\n",
        "**Epoch 20:**\n",
        "\n",
        "Training Acc: 93.3%\n",
        "\n",
        "Validation Acc: 92.2%\n",
        "\n",
        "**Epoch 30:**\n",
        "\n",
        "Training Acc: 98.2%\n",
        "\n",
        "Validation Acc: 94.2%\n",
        "\n",
        "\n",
        "**Epoch 40:**\n",
        "\n",
        "Training Acc: 99.2%\n",
        "\n",
        "Validation Acc: 93.4%\n",
        "\n",
        "*Making the embeddings trainable did not result in any significant increase in validation accuracy, while making training significantly slower. In addition, the network starting overfitting substantially after epoch 18. As such, for future tests, the pre-trained embedding layer will be set as not trainable. \n",
        "\n",
        "## Test 5 (Different set of shuffled data)(Repeat of Test 3, but with 40 epochs): \n",
        "Epochs: **40**, maxlen: **2000**, Embeddings: **pretrained**, dimensions: **300**, trainable: **False**\n",
        "\n",
        "**Epoch 30:**\n",
        "\n",
        "Training Acc: 90.0%\n",
        "\n",
        "Validation Acc: 92.0%\n",
        "\n",
        "\n",
        "**Epoch 40:**\n",
        "\n",
        "Training Acc: 95.0%\n",
        "\n",
        "Validation Acc: 93.6%\n",
        "\n",
        "\n",
        "\n",
        "\n",
        "\n",
        "\n",
        "\n",
        "\n"
      ]
    },
    {
      "cell_type": "code",
      "metadata": {
        "id": "yavJ6tXWc9F7",
        "colab_type": "code",
        "colab": {}
      },
      "source": [
        "model.save('/content/drive/My Drive/Data/HKEX/model.h5')"
      ],
      "execution_count": 32,
      "outputs": []
    },
    {
      "cell_type": "markdown",
      "metadata": {
        "id": "HFL-XFotX4Ak",
        "colab_type": "text"
      },
      "source": [
        "## Testing on New Announcements \n",
        "\n",
        "Let's see how our classifier does on new data that it has not seen! \n",
        "\n",
        "I picked some recent announcements for testing. \n",
        "\n",
        "For the testing, it is important that the testing announcements are not in the training set or validation set. The classify_pdf function written below takes this into account.\n"
      ]
    },
    {
      "cell_type": "code",
      "metadata": {
        "id": "FPoiD8zUTQCf",
        "colab_type": "code",
        "colab": {
          "base_uri": "https://localhost:8080/",
          "height": 207
        },
        "outputId": "495df95c-f8af-4f88-a557-cf638ca6454c"
      },
      "source": [
        "import requests\n",
        "!pip install PyPDF2 \n",
        "import PyPDF2\n",
        "import io\n",
        "import warnings"
      ],
      "execution_count": 20,
      "outputs": [
        {
          "output_type": "stream",
          "text": [
            "Collecting PyPDF2\n",
            "\u001b[?25l  Downloading https://files.pythonhosted.org/packages/b4/01/68fcc0d43daf4c6bdbc6b33cc3f77bda531c86b174cac56ef0ffdb96faab/PyPDF2-1.26.0.tar.gz (77kB)\n",
            "\r\u001b[K     |████▎                           | 10kB 9.3MB/s eta 0:00:01\r\u001b[K     |████████▌                       | 20kB 2.1MB/s eta 0:00:01\r\u001b[K     |████████████▊                   | 30kB 2.7MB/s eta 0:00:01\r\u001b[K     |█████████████████               | 40kB 3.0MB/s eta 0:00:01\r\u001b[K     |█████████████████████▏          | 51kB 2.5MB/s eta 0:00:01\r\u001b[K     |█████████████████████████▍      | 61kB 2.8MB/s eta 0:00:01\r\u001b[K     |█████████████████████████████▋  | 71kB 3.0MB/s eta 0:00:01\r\u001b[K     |████████████████████████████████| 81kB 2.7MB/s \n",
            "\u001b[?25hBuilding wheels for collected packages: PyPDF2\n",
            "  Building wheel for PyPDF2 (setup.py) ... \u001b[?25l\u001b[?25hdone\n",
            "  Created wheel for PyPDF2: filename=PyPDF2-1.26.0-cp36-none-any.whl size=61086 sha256=a59405027da28f7d6d37ac6d5149d913b168d30bd6a0a8e5832d75637202b15a\n",
            "  Stored in directory: /root/.cache/pip/wheels/53/84/19/35bc977c8bf5f0c23a8a011aa958acd4da4bbd7a229315c1b7\n",
            "Successfully built PyPDF2\n",
            "Installing collected packages: PyPDF2\n",
            "Successfully installed PyPDF2-1.26.0\n"
          ],
          "name": "stdout"
        }
      ]
    },
    {
      "cell_type": "code",
      "metadata": {
        "id": "4OxXCpnpTmIB",
        "colab_type": "code",
        "colab": {}
      },
      "source": [
        "def classify_pdf(url):\n",
        "    # if url for testing is in the existing data set, do not go ahead with testing\n",
        "    if len(df.loc[df['URL'] == url]) != 0:\n",
        "        return f'{url} in Training or Validation, try another url'\n",
        "    with warnings.catch_warnings():\n",
        "        warnings.simplefilter('ignore')\n",
        "        response = requests.get(url)\n",
        "        raw_data = response.content\n",
        "\n",
        "        pdf_content = io.BytesIO(raw_data)\n",
        "        pdf_reader = PyPDF2.PdfFileReader(pdf_content)\n",
        "\n",
        "        test_string = ''\n",
        "\n",
        "        if pdf_reader.isEncrypted:\n",
        "            pdf_reader.decrypt(\"\")\n",
        "\n",
        "        for i in range(pdf_reader.numPages):\n",
        "            test_string += pdf_reader.getPage(i).extractText()\n",
        "\n",
        "        test = [test_string]\n",
        "        seq = tokenizer.texts_to_sequences(test)\n",
        "        padded = pad_sequences(seq, maxlen=max_len)\n",
        "        pred = model.predict(padded)\n",
        "        labels_pred = ['Notifiable Transaction', 'Takeover Offer', 'Connected Transaction', 'Notice of AGM', 'Trading Halt', 'Annual Results']\n",
        "        normalised = pred/np.sum(pred)*100\n",
        "        confidence = float(normalised.astype(float).reshape(len(labels_pred),-1)[np.argmax(pred)])\n",
        "        print(f'Prediction: {labels_pred[np.argmax(pred)]} with {confidence:.2f}% confidence')"
      ],
      "execution_count": 50,
      "outputs": []
    },
    {
      "cell_type": "code",
      "metadata": {
        "id": "KyOR25BwUJR7",
        "colab_type": "code",
        "colab": {
          "base_uri": "https://localhost:8080/",
          "height": 34
        },
        "outputId": "11dcba2d-cb54-4df2-b177-d67385f9393c"
      },
      "source": [
        "classify_pdf('https://www1.hkexnews.hk/listedco/listconews/sehk/2020/0925/2020092501332.pdf')\n"
      ],
      "execution_count": 51,
      "outputs": [
        {
          "output_type": "stream",
          "text": [
            "Prediction: Notifiable Transaction with 99.93% confidence\n"
          ],
          "name": "stdout"
        }
      ]
    },
    {
      "cell_type": "markdown",
      "metadata": {
        "id": "GTTnPdQ3yxbY",
        "colab_type": "text"
      },
      "source": [
        "Great! The classifier was able to correctly identify the announcement as a Notifiable Transaction, which is also known as a Discloseable Transaction. Let's try a few more announcements."
      ]
    },
    {
      "cell_type": "code",
      "metadata": {
        "id": "-3dNWRKZVmmz",
        "colab_type": "code",
        "colab": {
          "base_uri": "https://localhost:8080/",
          "height": 34
        },
        "outputId": "f8472b4e-d2f1-40f8-905f-b980efa28623"
      },
      "source": [
        "classify_pdf('https://www1.hkexnews.hk/listedco/listconews/sehk/2020/0925/2020092501350.pdf')"
      ],
      "execution_count": 53,
      "outputs": [
        {
          "output_type": "stream",
          "text": [
            "Prediction: Annual Results with 100.00% confidence\n"
          ],
          "name": "stdout"
        }
      ]
    },
    {
      "cell_type": "markdown",
      "metadata": {
        "id": "Hg7vWSy70p1p",
        "colab_type": "text"
      },
      "source": [
        "The classifier is very confident about this result, which turned out to be correct."
      ]
    },
    {
      "cell_type": "code",
      "metadata": {
        "id": "hzjm9ujjzeCY",
        "colab_type": "code",
        "colab": {
          "base_uri": "https://localhost:8080/",
          "height": 34
        },
        "outputId": "e696928b-24ae-44b6-fa58-8c4aa17e2900"
      },
      "source": [
        "classify_pdf('https://www1.hkexnews.hk/listedco/listconews/sehk/2020/0925/2020092501035.pdf')"
      ],
      "execution_count": 54,
      "outputs": [
        {
          "output_type": "stream",
          "text": [
            "Prediction: Connected Transaction with 53.02% confidence\n"
          ],
          "name": "stdout"
        }
      ]
    },
    {
      "cell_type": "markdown",
      "metadata": {
        "id": "s0Ui1nC306FJ",
        "colab_type": "text"
      },
      "source": [
        "As for this sample, the classifier is not too confident about it, but it turned out to be correct."
      ]
    }
  ]
}